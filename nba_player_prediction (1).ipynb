{
  "nbformat": 4,
  "nbformat_minor": 0,
  "metadata": {
    "colab": {
      "name": "nba-player-prediction.ipynb",
      "provenance": [],
      "collapsed_sections": [],
      "toc_visible": true
    },
    "kernelspec": {
      "name": "python3",
      "display_name": "Python 3"
    }
  },
  "cells": [
    {
      "cell_type": "markdown",
      "metadata": {
        "id": "WQSFqmLdH1bW",
        "colab_type": "text"
      },
      "source": [
        "# NBA Player Prediction\n"
      ]
    },
    {
      "cell_type": "markdown",
      "metadata": {
        "id": "urL_kLzXH5eN",
        "colab_type": "text"
      },
      "source": [
        "In this project, we will use data from the 2017-2018 NBA season to predict the number of points a player scores. We will split our full dataset into training and testing sets. Then, we will perform exploratory analyses on the training set to help us gauge which features should be used in our model. We can then utilize machine learning principles to train a model that predicts the number of points per game a given player score.\n",
        "\n",
        "Before beginning, it is important to note that we are not attempting to determine how valuable a player is to a team in the way that metrics such as win shares and value over replacement attempt to do. We are simply attempting to create a model that takes in a player's statistics and guesses how many points per game he will score."
      ]
    },
    {
      "cell_type": "markdown",
      "metadata": {
        "id": "BDT30zAoJZho",
        "colab_type": "text"
      },
      "source": [
        "## Importing Libraries"
      ]
    },
    {
      "cell_type": "code",
      "metadata": {
        "id": "w4v0kknRHuuH",
        "colab_type": "code",
        "outputId": "04cdeb69-fb17-4951-b98f-cb3eba78a467",
        "colab": {
          "base_uri": "https://localhost:8080/",
          "height": 71
        }
      },
      "source": [
        "# Linear algebra\n",
        "import numpy as np\n",
        "\n",
        "# Data processing\n",
        "import pandas as pd\n",
        "\n",
        "# Data visualization\n",
        "import seaborn as sns\n",
        "sns.set()\n",
        "\n",
        "%matplotlib inline\n",
        "from matplotlib import pyplot as plt\n",
        "from matplotlib import style\n",
        "\n",
        "# Machine learning\n",
        "from sklearn.linear_model import LinearRegression\n",
        "from sklearn.tree import DecisionTreeRegressor\n",
        "from sklearn.preprocessing import PolynomialFeatures\n",
        "from sklearn.ensemble import RandomForestRegressor\n",
        "from sklearn.linear_model import Ridge\n",
        "from sklearn.linear_model import Lasso\n",
        "# Algorithms to use:\n",
        "# Linear regression (Simple, Multiple, and Polynomial)\n",
        "# Lasso\n",
        "# Ridge\n",
        "# Decision tree regression\n",
        "# Random forest trees\n",
        "# Gradient boosted trees\n",
        "# Elastic net regression\n",
        "# https://www.analyticsvidhya.com/blog/2015/08/comprehensive-guide-regression/\n",
        "\n",
        "from sklearn.model_selection import train_test_split, cross_val_score\n",
        "from sklearn.model_selection import GridSearchCV\n",
        "from sklearn.metrics import r2_score, explained_variance_score as EVS, mean_squared_error as MSE"
      ],
      "execution_count": 0,
      "outputs": [
        {
          "output_type": "stream",
          "text": [
            "/usr/local/lib/python3.6/dist-packages/statsmodels/tools/_testing.py:19: FutureWarning: pandas.util.testing is deprecated. Use the functions in the public API at pandas.testing instead.\n",
            "  import pandas.util.testing as tm\n"
          ],
          "name": "stderr"
        }
      ]
    },
    {
      "cell_type": "markdown",
      "metadata": {
        "id": "Wt-RS5LBJ8Uj",
        "colab_type": "text"
      },
      "source": [
        "## Loading the Data"
      ]
    },
    {
      "cell_type": "code",
      "metadata": {
        "id": "-M3fJ99VQoe0",
        "colab_type": "code",
        "colab": {}
      },
      "source": [
        "# Extra data on players 'https://raw.githubusercontent.com/evanpfeifer/nba-player-data/master/Players.csv'\n",
        "# Extra data on players 'https://raw.githubusercontent.com/evanpfeifer/nba-player-data/master/player_data.csv'\n",
        "url = 'https://raw.githubusercontent.com/evanpfeifer/nba-player-data/master/Seasons_Stats.csv'\n",
        "df = pd.read_csv(url)"
      ],
      "execution_count": 0,
      "outputs": []
    },
    {
      "cell_type": "code",
      "metadata": {
        "id": "Fyg0KfV9w-Wr",
        "colab_type": "code",
        "outputId": "9fcb5d0b-471b-421e-d4ec-8e05a894a671",
        "colab": {
          "base_uri": "https://localhost:8080/",
          "height": 470
        }
      },
      "source": [
        "df.loc[df.Player==\"James Harden\"]"
      ],
      "execution_count": 0,
      "outputs": [
        {
          "output_type": "execute_result",
          "data": {
            "text/html": [
              "<div>\n",
              "<style scoped>\n",
              "    .dataframe tbody tr th:only-of-type {\n",
              "        vertical-align: middle;\n",
              "    }\n",
              "\n",
              "    .dataframe tbody tr th {\n",
              "        vertical-align: top;\n",
              "    }\n",
              "\n",
              "    .dataframe thead th {\n",
              "        text-align: right;\n",
              "    }\n",
              "</style>\n",
              "<table border=\"1\" class=\"dataframe\">\n",
              "  <thead>\n",
              "    <tr style=\"text-align: right;\">\n",
              "      <th></th>\n",
              "      <th>Unnamed: 0</th>\n",
              "      <th>Year</th>\n",
              "      <th>Player</th>\n",
              "      <th>Pos</th>\n",
              "      <th>Age</th>\n",
              "      <th>Tm</th>\n",
              "      <th>G</th>\n",
              "      <th>GS</th>\n",
              "      <th>MP</th>\n",
              "      <th>PER</th>\n",
              "      <th>TS%</th>\n",
              "      <th>3PAr</th>\n",
              "      <th>FTr</th>\n",
              "      <th>ORB%</th>\n",
              "      <th>DRB%</th>\n",
              "      <th>TRB%</th>\n",
              "      <th>AST%</th>\n",
              "      <th>STL%</th>\n",
              "      <th>BLK%</th>\n",
              "      <th>TOV%</th>\n",
              "      <th>USG%</th>\n",
              "      <th>blanl</th>\n",
              "      <th>OWS</th>\n",
              "      <th>DWS</th>\n",
              "      <th>WS</th>\n",
              "      <th>WS/48</th>\n",
              "      <th>blank2</th>\n",
              "      <th>OBPM</th>\n",
              "      <th>DBPM</th>\n",
              "      <th>BPM</th>\n",
              "      <th>VORP</th>\n",
              "      <th>FG</th>\n",
              "      <th>FGA</th>\n",
              "      <th>FG%</th>\n",
              "      <th>3P</th>\n",
              "      <th>3PA</th>\n",
              "      <th>3P%</th>\n",
              "      <th>2P</th>\n",
              "      <th>2PA</th>\n",
              "      <th>2P%</th>\n",
              "      <th>eFG%</th>\n",
              "      <th>FT</th>\n",
              "      <th>FTA</th>\n",
              "      <th>FT%</th>\n",
              "      <th>ORB</th>\n",
              "      <th>DRB</th>\n",
              "      <th>TRB</th>\n",
              "      <th>AST</th>\n",
              "      <th>STL</th>\n",
              "      <th>BLK</th>\n",
              "      <th>TOV</th>\n",
              "      <th>PF</th>\n",
              "      <th>PTS</th>\n",
              "    </tr>\n",
              "  </thead>\n",
              "  <tbody>\n",
              "    <tr>\n",
              "      <th>20133</th>\n",
              "      <td>20133</td>\n",
              "      <td>2010.0</td>\n",
              "      <td>James Harden</td>\n",
              "      <td>SG</td>\n",
              "      <td>20.0</td>\n",
              "      <td>OKC</td>\n",
              "      <td>76.0</td>\n",
              "      <td>0.0</td>\n",
              "      <td>1738.0</td>\n",
              "      <td>14.0</td>\n",
              "      <td>0.551</td>\n",
              "      <td>0.429</td>\n",
              "      <td>0.415</td>\n",
              "      <td>3.2</td>\n",
              "      <td>12.7</td>\n",
              "      <td>8.1</td>\n",
              "      <td>12.3</td>\n",
              "      <td>2.4</td>\n",
              "      <td>0.9</td>\n",
              "      <td>13.4</td>\n",
              "      <td>20.4</td>\n",
              "      <td>NaN</td>\n",
              "      <td>2.0</td>\n",
              "      <td>2.5</td>\n",
              "      <td>4.5</td>\n",
              "      <td>0.124</td>\n",
              "      <td>NaN</td>\n",
              "      <td>0.7</td>\n",
              "      <td>0.3</td>\n",
              "      <td>1.0</td>\n",
              "      <td>1.3</td>\n",
              "      <td>233.0</td>\n",
              "      <td>578.0</td>\n",
              "      <td>0.403</td>\n",
              "      <td>93.0</td>\n",
              "      <td>248.0</td>\n",
              "      <td>0.375</td>\n",
              "      <td>140.0</td>\n",
              "      <td>330.0</td>\n",
              "      <td>0.424</td>\n",
              "      <td>0.484</td>\n",
              "      <td>194.0</td>\n",
              "      <td>240.0</td>\n",
              "      <td>0.808</td>\n",
              "      <td>47.0</td>\n",
              "      <td>197.0</td>\n",
              "      <td>244.0</td>\n",
              "      <td>137.0</td>\n",
              "      <td>80.0</td>\n",
              "      <td>20.0</td>\n",
              "      <td>106.0</td>\n",
              "      <td>200.0</td>\n",
              "      <td>753.0</td>\n",
              "    </tr>\n",
              "    <tr>\n",
              "      <th>20766</th>\n",
              "      <td>20766</td>\n",
              "      <td>2011.0</td>\n",
              "      <td>James Harden</td>\n",
              "      <td>SG</td>\n",
              "      <td>21.0</td>\n",
              "      <td>OKC</td>\n",
              "      <td>82.0</td>\n",
              "      <td>5.0</td>\n",
              "      <td>2189.0</td>\n",
              "      <td>16.4</td>\n",
              "      <td>0.598</td>\n",
              "      <td>0.474</td>\n",
              "      <td>0.501</td>\n",
              "      <td>2.3</td>\n",
              "      <td>11.0</td>\n",
              "      <td>6.8</td>\n",
              "      <td>12.8</td>\n",
              "      <td>2.2</td>\n",
              "      <td>0.8</td>\n",
              "      <td>11.3</td>\n",
              "      <td>19.5</td>\n",
              "      <td>NaN</td>\n",
              "      <td>5.0</td>\n",
              "      <td>2.1</td>\n",
              "      <td>7.1</td>\n",
              "      <td>0.156</td>\n",
              "      <td>NaN</td>\n",
              "      <td>2.9</td>\n",
              "      <td>-0.6</td>\n",
              "      <td>2.3</td>\n",
              "      <td>2.4</td>\n",
              "      <td>298.0</td>\n",
              "      <td>684.0</td>\n",
              "      <td>0.436</td>\n",
              "      <td>113.0</td>\n",
              "      <td>324.0</td>\n",
              "      <td>0.349</td>\n",
              "      <td>185.0</td>\n",
              "      <td>360.0</td>\n",
              "      <td>0.514</td>\n",
              "      <td>0.518</td>\n",
              "      <td>289.0</td>\n",
              "      <td>343.0</td>\n",
              "      <td>0.843</td>\n",
              "      <td>42.0</td>\n",
              "      <td>213.0</td>\n",
              "      <td>255.0</td>\n",
              "      <td>176.0</td>\n",
              "      <td>92.0</td>\n",
              "      <td>24.0</td>\n",
              "      <td>106.0</td>\n",
              "      <td>207.0</td>\n",
              "      <td>998.0</td>\n",
              "    </tr>\n",
              "    <tr>\n",
              "      <th>21338</th>\n",
              "      <td>21338</td>\n",
              "      <td>2012.0</td>\n",
              "      <td>James Harden</td>\n",
              "      <td>SG</td>\n",
              "      <td>22.0</td>\n",
              "      <td>OKC</td>\n",
              "      <td>62.0</td>\n",
              "      <td>2.0</td>\n",
              "      <td>1946.0</td>\n",
              "      <td>21.1</td>\n",
              "      <td>0.660</td>\n",
              "      <td>0.464</td>\n",
              "      <td>0.587</td>\n",
              "      <td>1.9</td>\n",
              "      <td>12.2</td>\n",
              "      <td>7.4</td>\n",
              "      <td>19.3</td>\n",
              "      <td>1.6</td>\n",
              "      <td>0.6</td>\n",
              "      <td>14.8</td>\n",
              "      <td>21.6</td>\n",
              "      <td>NaN</td>\n",
              "      <td>7.5</td>\n",
              "      <td>1.8</td>\n",
              "      <td>9.3</td>\n",
              "      <td>0.230</td>\n",
              "      <td>NaN</td>\n",
              "      <td>5.6</td>\n",
              "      <td>-1.1</td>\n",
              "      <td>4.5</td>\n",
              "      <td>3.2</td>\n",
              "      <td>309.0</td>\n",
              "      <td>629.0</td>\n",
              "      <td>0.491</td>\n",
              "      <td>114.0</td>\n",
              "      <td>292.0</td>\n",
              "      <td>0.390</td>\n",
              "      <td>195.0</td>\n",
              "      <td>337.0</td>\n",
              "      <td>0.579</td>\n",
              "      <td>0.582</td>\n",
              "      <td>312.0</td>\n",
              "      <td>369.0</td>\n",
              "      <td>0.846</td>\n",
              "      <td>30.0</td>\n",
              "      <td>222.0</td>\n",
              "      <td>252.0</td>\n",
              "      <td>229.0</td>\n",
              "      <td>62.0</td>\n",
              "      <td>15.0</td>\n",
              "      <td>137.0</td>\n",
              "      <td>150.0</td>\n",
              "      <td>1044.0</td>\n",
              "    </tr>\n",
              "    <tr>\n",
              "      <th>21886</th>\n",
              "      <td>21886</td>\n",
              "      <td>2013.0</td>\n",
              "      <td>James Harden</td>\n",
              "      <td>SG</td>\n",
              "      <td>23.0</td>\n",
              "      <td>HOU</td>\n",
              "      <td>78.0</td>\n",
              "      <td>78.0</td>\n",
              "      <td>2985.0</td>\n",
              "      <td>23.0</td>\n",
              "      <td>0.600</td>\n",
              "      <td>0.364</td>\n",
              "      <td>0.592</td>\n",
              "      <td>2.4</td>\n",
              "      <td>11.9</td>\n",
              "      <td>7.2</td>\n",
              "      <td>25.7</td>\n",
              "      <td>2.4</td>\n",
              "      <td>1.0</td>\n",
              "      <td>14.9</td>\n",
              "      <td>29.0</td>\n",
              "      <td>NaN</td>\n",
              "      <td>9.8</td>\n",
              "      <td>3.0</td>\n",
              "      <td>12.8</td>\n",
              "      <td>0.206</td>\n",
              "      <td>NaN</td>\n",
              "      <td>5.4</td>\n",
              "      <td>0.1</td>\n",
              "      <td>5.5</td>\n",
              "      <td>5.7</td>\n",
              "      <td>585.0</td>\n",
              "      <td>1337.0</td>\n",
              "      <td>0.438</td>\n",
              "      <td>179.0</td>\n",
              "      <td>486.0</td>\n",
              "      <td>0.368</td>\n",
              "      <td>406.0</td>\n",
              "      <td>851.0</td>\n",
              "      <td>0.477</td>\n",
              "      <td>0.504</td>\n",
              "      <td>674.0</td>\n",
              "      <td>792.0</td>\n",
              "      <td>0.851</td>\n",
              "      <td>62.0</td>\n",
              "      <td>317.0</td>\n",
              "      <td>379.0</td>\n",
              "      <td>455.0</td>\n",
              "      <td>142.0</td>\n",
              "      <td>38.0</td>\n",
              "      <td>295.0</td>\n",
              "      <td>178.0</td>\n",
              "      <td>2023.0</td>\n",
              "    </tr>\n",
              "    <tr>\n",
              "      <th>22504</th>\n",
              "      <td>22504</td>\n",
              "      <td>2014.0</td>\n",
              "      <td>James Harden</td>\n",
              "      <td>SG</td>\n",
              "      <td>24.0</td>\n",
              "      <td>HOU</td>\n",
              "      <td>73.0</td>\n",
              "      <td>73.0</td>\n",
              "      <td>2777.0</td>\n",
              "      <td>23.5</td>\n",
              "      <td>0.618</td>\n",
              "      <td>0.401</td>\n",
              "      <td>0.552</td>\n",
              "      <td>2.6</td>\n",
              "      <td>10.7</td>\n",
              "      <td>6.9</td>\n",
              "      <td>27.3</td>\n",
              "      <td>2.1</td>\n",
              "      <td>0.8</td>\n",
              "      <td>15.0</td>\n",
              "      <td>27.8</td>\n",
              "      <td>NaN</td>\n",
              "      <td>10.1</td>\n",
              "      <td>2.7</td>\n",
              "      <td>12.8</td>\n",
              "      <td>0.221</td>\n",
              "      <td>NaN</td>\n",
              "      <td>6.2</td>\n",
              "      <td>-0.5</td>\n",
              "      <td>5.7</td>\n",
              "      <td>5.4</td>\n",
              "      <td>549.0</td>\n",
              "      <td>1205.0</td>\n",
              "      <td>0.456</td>\n",
              "      <td>177.0</td>\n",
              "      <td>483.0</td>\n",
              "      <td>0.366</td>\n",
              "      <td>372.0</td>\n",
              "      <td>722.0</td>\n",
              "      <td>0.515</td>\n",
              "      <td>0.529</td>\n",
              "      <td>576.0</td>\n",
              "      <td>665.0</td>\n",
              "      <td>0.866</td>\n",
              "      <td>61.0</td>\n",
              "      <td>283.0</td>\n",
              "      <td>344.0</td>\n",
              "      <td>446.0</td>\n",
              "      <td>115.0</td>\n",
              "      <td>29.0</td>\n",
              "      <td>265.0</td>\n",
              "      <td>177.0</td>\n",
              "      <td>1851.0</td>\n",
              "    </tr>\n",
              "    <tr>\n",
              "      <th>23114</th>\n",
              "      <td>23114</td>\n",
              "      <td>2015.0</td>\n",
              "      <td>James Harden</td>\n",
              "      <td>SG</td>\n",
              "      <td>25.0</td>\n",
              "      <td>HOU</td>\n",
              "      <td>81.0</td>\n",
              "      <td>81.0</td>\n",
              "      <td>2981.0</td>\n",
              "      <td>26.7</td>\n",
              "      <td>0.605</td>\n",
              "      <td>0.378</td>\n",
              "      <td>0.561</td>\n",
              "      <td>2.8</td>\n",
              "      <td>14.2</td>\n",
              "      <td>8.5</td>\n",
              "      <td>34.6</td>\n",
              "      <td>2.6</td>\n",
              "      <td>1.6</td>\n",
              "      <td>14.9</td>\n",
              "      <td>31.3</td>\n",
              "      <td>NaN</td>\n",
              "      <td>12.2</td>\n",
              "      <td>4.2</td>\n",
              "      <td>16.4</td>\n",
              "      <td>0.265</td>\n",
              "      <td>NaN</td>\n",
              "      <td>7.4</td>\n",
              "      <td>1.0</td>\n",
              "      <td>8.4</td>\n",
              "      <td>7.8</td>\n",
              "      <td>647.0</td>\n",
              "      <td>1470.0</td>\n",
              "      <td>0.440</td>\n",
              "      <td>208.0</td>\n",
              "      <td>555.0</td>\n",
              "      <td>0.375</td>\n",
              "      <td>439.0</td>\n",
              "      <td>915.0</td>\n",
              "      <td>0.480</td>\n",
              "      <td>0.511</td>\n",
              "      <td>715.0</td>\n",
              "      <td>824.0</td>\n",
              "      <td>0.868</td>\n",
              "      <td>75.0</td>\n",
              "      <td>384.0</td>\n",
              "      <td>459.0</td>\n",
              "      <td>565.0</td>\n",
              "      <td>154.0</td>\n",
              "      <td>60.0</td>\n",
              "      <td>321.0</td>\n",
              "      <td>208.0</td>\n",
              "      <td>2217.0</td>\n",
              "    </tr>\n",
              "    <tr>\n",
              "      <th>23722</th>\n",
              "      <td>23722</td>\n",
              "      <td>2016.0</td>\n",
              "      <td>James Harden</td>\n",
              "      <td>SG</td>\n",
              "      <td>26.0</td>\n",
              "      <td>HOU</td>\n",
              "      <td>82.0</td>\n",
              "      <td>82.0</td>\n",
              "      <td>3125.0</td>\n",
              "      <td>25.3</td>\n",
              "      <td>0.598</td>\n",
              "      <td>0.406</td>\n",
              "      <td>0.518</td>\n",
              "      <td>2.2</td>\n",
              "      <td>15.6</td>\n",
              "      <td>8.8</td>\n",
              "      <td>35.4</td>\n",
              "      <td>2.2</td>\n",
              "      <td>1.4</td>\n",
              "      <td>15.9</td>\n",
              "      <td>32.5</td>\n",
              "      <td>NaN</td>\n",
              "      <td>10.7</td>\n",
              "      <td>2.6</td>\n",
              "      <td>13.3</td>\n",
              "      <td>0.204</td>\n",
              "      <td>NaN</td>\n",
              "      <td>7.1</td>\n",
              "      <td>-0.4</td>\n",
              "      <td>6.7</td>\n",
              "      <td>6.9</td>\n",
              "      <td>710.0</td>\n",
              "      <td>1617.0</td>\n",
              "      <td>0.439</td>\n",
              "      <td>236.0</td>\n",
              "      <td>657.0</td>\n",
              "      <td>0.359</td>\n",
              "      <td>474.0</td>\n",
              "      <td>960.0</td>\n",
              "      <td>0.494</td>\n",
              "      <td>0.512</td>\n",
              "      <td>720.0</td>\n",
              "      <td>837.0</td>\n",
              "      <td>0.860</td>\n",
              "      <td>63.0</td>\n",
              "      <td>438.0</td>\n",
              "      <td>501.0</td>\n",
              "      <td>612.0</td>\n",
              "      <td>139.0</td>\n",
              "      <td>51.0</td>\n",
              "      <td>374.0</td>\n",
              "      <td>229.0</td>\n",
              "      <td>2376.0</td>\n",
              "    </tr>\n",
              "    <tr>\n",
              "      <th>24306</th>\n",
              "      <td>24306</td>\n",
              "      <td>2017.0</td>\n",
              "      <td>James Harden</td>\n",
              "      <td>PG</td>\n",
              "      <td>27.0</td>\n",
              "      <td>HOU</td>\n",
              "      <td>81.0</td>\n",
              "      <td>81.0</td>\n",
              "      <td>2947.0</td>\n",
              "      <td>27.3</td>\n",
              "      <td>0.613</td>\n",
              "      <td>0.493</td>\n",
              "      <td>0.575</td>\n",
              "      <td>3.5</td>\n",
              "      <td>20.9</td>\n",
              "      <td>12.2</td>\n",
              "      <td>50.7</td>\n",
              "      <td>2.0</td>\n",
              "      <td>1.0</td>\n",
              "      <td>19.5</td>\n",
              "      <td>34.2</td>\n",
              "      <td>NaN</td>\n",
              "      <td>11.5</td>\n",
              "      <td>3.6</td>\n",
              "      <td>15.0</td>\n",
              "      <td>0.245</td>\n",
              "      <td>NaN</td>\n",
              "      <td>8.7</td>\n",
              "      <td>1.5</td>\n",
              "      <td>10.1</td>\n",
              "      <td>9.0</td>\n",
              "      <td>674.0</td>\n",
              "      <td>1533.0</td>\n",
              "      <td>0.440</td>\n",
              "      <td>262.0</td>\n",
              "      <td>756.0</td>\n",
              "      <td>0.347</td>\n",
              "      <td>412.0</td>\n",
              "      <td>777.0</td>\n",
              "      <td>0.530</td>\n",
              "      <td>0.525</td>\n",
              "      <td>746.0</td>\n",
              "      <td>881.0</td>\n",
              "      <td>0.847</td>\n",
              "      <td>95.0</td>\n",
              "      <td>564.0</td>\n",
              "      <td>659.0</td>\n",
              "      <td>906.0</td>\n",
              "      <td>120.0</td>\n",
              "      <td>37.0</td>\n",
              "      <td>464.0</td>\n",
              "      <td>215.0</td>\n",
              "      <td>2356.0</td>\n",
              "    </tr>\n",
              "  </tbody>\n",
              "</table>\n",
              "</div>"
            ],
            "text/plain": [
              "       Unnamed: 0    Year        Player Pos  ...   BLK    TOV     PF     PTS\n",
              "20133       20133  2010.0  James Harden  SG  ...  20.0  106.0  200.0   753.0\n",
              "20766       20766  2011.0  James Harden  SG  ...  24.0  106.0  207.0   998.0\n",
              "21338       21338  2012.0  James Harden  SG  ...  15.0  137.0  150.0  1044.0\n",
              "21886       21886  2013.0  James Harden  SG  ...  38.0  295.0  178.0  2023.0\n",
              "22504       22504  2014.0  James Harden  SG  ...  29.0  265.0  177.0  1851.0\n",
              "23114       23114  2015.0  James Harden  SG  ...  60.0  321.0  208.0  2217.0\n",
              "23722       23722  2016.0  James Harden  SG  ...  51.0  374.0  229.0  2376.0\n",
              "24306       24306  2017.0  James Harden  PG  ...  37.0  464.0  215.0  2356.0\n",
              "\n",
              "[8 rows x 53 columns]"
            ]
          },
          "metadata": {
            "tags": []
          },
          "execution_count": 4
        }
      ]
    },
    {
      "cell_type": "markdown",
      "metadata": {
        "id": "rHu4P692LiBQ",
        "colab_type": "text"
      },
      "source": [
        "## Cleaning"
      ]
    },
    {
      "cell_type": "code",
      "metadata": {
        "id": "hacMDvWKPzm3",
        "colab_type": "code",
        "outputId": "bb0eb6a4-1d5b-4fbf-f3c6-a51500ae1fbf",
        "colab": {
          "base_uri": "https://localhost:8080/",
          "height": 326
        }
      },
      "source": [
        "# Filter for 2017/2018 season\n",
        "df = df[df['Year'] == 2017]\n",
        "df.head()\n"
      ],
      "execution_count": 0,
      "outputs": [
        {
          "output_type": "execute_result",
          "data": {
            "text/html": [
              "<div>\n",
              "<style scoped>\n",
              "    .dataframe tbody tr th:only-of-type {\n",
              "        vertical-align: middle;\n",
              "    }\n",
              "\n",
              "    .dataframe tbody tr th {\n",
              "        vertical-align: top;\n",
              "    }\n",
              "\n",
              "    .dataframe thead th {\n",
              "        text-align: right;\n",
              "    }\n",
              "</style>\n",
              "<table border=\"1\" class=\"dataframe\">\n",
              "  <thead>\n",
              "    <tr style=\"text-align: right;\">\n",
              "      <th></th>\n",
              "      <th>Unnamed: 0</th>\n",
              "      <th>Year</th>\n",
              "      <th>Player</th>\n",
              "      <th>Pos</th>\n",
              "      <th>Age</th>\n",
              "      <th>Tm</th>\n",
              "      <th>G</th>\n",
              "      <th>GS</th>\n",
              "      <th>MP</th>\n",
              "      <th>PER</th>\n",
              "      <th>TS%</th>\n",
              "      <th>3PAr</th>\n",
              "      <th>FTr</th>\n",
              "      <th>ORB%</th>\n",
              "      <th>DRB%</th>\n",
              "      <th>TRB%</th>\n",
              "      <th>AST%</th>\n",
              "      <th>STL%</th>\n",
              "      <th>BLK%</th>\n",
              "      <th>TOV%</th>\n",
              "      <th>USG%</th>\n",
              "      <th>blanl</th>\n",
              "      <th>OWS</th>\n",
              "      <th>DWS</th>\n",
              "      <th>WS</th>\n",
              "      <th>WS/48</th>\n",
              "      <th>blank2</th>\n",
              "      <th>OBPM</th>\n",
              "      <th>DBPM</th>\n",
              "      <th>BPM</th>\n",
              "      <th>VORP</th>\n",
              "      <th>FG</th>\n",
              "      <th>FGA</th>\n",
              "      <th>FG%</th>\n",
              "      <th>3P</th>\n",
              "      <th>3PA</th>\n",
              "      <th>3P%</th>\n",
              "      <th>2P</th>\n",
              "      <th>2PA</th>\n",
              "      <th>2P%</th>\n",
              "      <th>eFG%</th>\n",
              "      <th>FT</th>\n",
              "      <th>FTA</th>\n",
              "      <th>FT%</th>\n",
              "      <th>ORB</th>\n",
              "      <th>DRB</th>\n",
              "      <th>TRB</th>\n",
              "      <th>AST</th>\n",
              "      <th>STL</th>\n",
              "      <th>BLK</th>\n",
              "      <th>TOV</th>\n",
              "      <th>PF</th>\n",
              "      <th>PTS</th>\n",
              "    </tr>\n",
              "  </thead>\n",
              "  <tbody>\n",
              "    <tr>\n",
              "      <th>24096</th>\n",
              "      <td>24096</td>\n",
              "      <td>2017.0</td>\n",
              "      <td>Alex Abrines</td>\n",
              "      <td>SG</td>\n",
              "      <td>23.0</td>\n",
              "      <td>OKC</td>\n",
              "      <td>68.0</td>\n",
              "      <td>6.0</td>\n",
              "      <td>1055.0</td>\n",
              "      <td>10.1</td>\n",
              "      <td>0.560</td>\n",
              "      <td>0.724</td>\n",
              "      <td>0.144</td>\n",
              "      <td>1.9</td>\n",
              "      <td>7.1</td>\n",
              "      <td>4.5</td>\n",
              "      <td>5.5</td>\n",
              "      <td>1.7</td>\n",
              "      <td>0.6</td>\n",
              "      <td>8.3</td>\n",
              "      <td>15.9</td>\n",
              "      <td>NaN</td>\n",
              "      <td>1.2</td>\n",
              "      <td>0.9</td>\n",
              "      <td>2.1</td>\n",
              "      <td>0.095</td>\n",
              "      <td>NaN</td>\n",
              "      <td>-0.3</td>\n",
              "      <td>-2.2</td>\n",
              "      <td>-2.5</td>\n",
              "      <td>-0.1</td>\n",
              "      <td>134.0</td>\n",
              "      <td>341.0</td>\n",
              "      <td>0.393</td>\n",
              "      <td>94.0</td>\n",
              "      <td>247.0</td>\n",
              "      <td>0.381</td>\n",
              "      <td>40.0</td>\n",
              "      <td>94.0</td>\n",
              "      <td>0.426</td>\n",
              "      <td>0.531</td>\n",
              "      <td>44.0</td>\n",
              "      <td>49.0</td>\n",
              "      <td>0.898</td>\n",
              "      <td>18.0</td>\n",
              "      <td>68.0</td>\n",
              "      <td>86.0</td>\n",
              "      <td>40.0</td>\n",
              "      <td>37.0</td>\n",
              "      <td>8.0</td>\n",
              "      <td>33.0</td>\n",
              "      <td>114.0</td>\n",
              "      <td>406.0</td>\n",
              "    </tr>\n",
              "    <tr>\n",
              "      <th>24097</th>\n",
              "      <td>24097</td>\n",
              "      <td>2017.0</td>\n",
              "      <td>Quincy Acy</td>\n",
              "      <td>PF</td>\n",
              "      <td>26.0</td>\n",
              "      <td>TOT</td>\n",
              "      <td>38.0</td>\n",
              "      <td>1.0</td>\n",
              "      <td>558.0</td>\n",
              "      <td>11.8</td>\n",
              "      <td>0.565</td>\n",
              "      <td>0.529</td>\n",
              "      <td>0.353</td>\n",
              "      <td>3.9</td>\n",
              "      <td>18.0</td>\n",
              "      <td>11.0</td>\n",
              "      <td>4.9</td>\n",
              "      <td>1.2</td>\n",
              "      <td>2.0</td>\n",
              "      <td>9.7</td>\n",
              "      <td>16.8</td>\n",
              "      <td>NaN</td>\n",
              "      <td>0.5</td>\n",
              "      <td>0.5</td>\n",
              "      <td>0.9</td>\n",
              "      <td>0.082</td>\n",
              "      <td>NaN</td>\n",
              "      <td>-1.8</td>\n",
              "      <td>-1.2</td>\n",
              "      <td>-3.0</td>\n",
              "      <td>-0.1</td>\n",
              "      <td>70.0</td>\n",
              "      <td>170.0</td>\n",
              "      <td>0.412</td>\n",
              "      <td>37.0</td>\n",
              "      <td>90.0</td>\n",
              "      <td>0.411</td>\n",
              "      <td>33.0</td>\n",
              "      <td>80.0</td>\n",
              "      <td>0.413</td>\n",
              "      <td>0.521</td>\n",
              "      <td>45.0</td>\n",
              "      <td>60.0</td>\n",
              "      <td>0.750</td>\n",
              "      <td>20.0</td>\n",
              "      <td>95.0</td>\n",
              "      <td>115.0</td>\n",
              "      <td>18.0</td>\n",
              "      <td>14.0</td>\n",
              "      <td>15.0</td>\n",
              "      <td>21.0</td>\n",
              "      <td>67.0</td>\n",
              "      <td>222.0</td>\n",
              "    </tr>\n",
              "    <tr>\n",
              "      <th>24098</th>\n",
              "      <td>24098</td>\n",
              "      <td>2017.0</td>\n",
              "      <td>Quincy Acy</td>\n",
              "      <td>PF</td>\n",
              "      <td>26.0</td>\n",
              "      <td>DAL</td>\n",
              "      <td>6.0</td>\n",
              "      <td>0.0</td>\n",
              "      <td>48.0</td>\n",
              "      <td>-1.4</td>\n",
              "      <td>0.355</td>\n",
              "      <td>0.412</td>\n",
              "      <td>0.176</td>\n",
              "      <td>4.6</td>\n",
              "      <td>15.2</td>\n",
              "      <td>9.7</td>\n",
              "      <td>0.0</td>\n",
              "      <td>0.0</td>\n",
              "      <td>0.0</td>\n",
              "      <td>9.8</td>\n",
              "      <td>20.0</td>\n",
              "      <td>NaN</td>\n",
              "      <td>-0.2</td>\n",
              "      <td>0.0</td>\n",
              "      <td>-0.1</td>\n",
              "      <td>-0.133</td>\n",
              "      <td>NaN</td>\n",
              "      <td>-10.1</td>\n",
              "      <td>-6.0</td>\n",
              "      <td>-16.2</td>\n",
              "      <td>-0.2</td>\n",
              "      <td>5.0</td>\n",
              "      <td>17.0</td>\n",
              "      <td>0.294</td>\n",
              "      <td>1.0</td>\n",
              "      <td>7.0</td>\n",
              "      <td>0.143</td>\n",
              "      <td>4.0</td>\n",
              "      <td>10.0</td>\n",
              "      <td>0.400</td>\n",
              "      <td>0.324</td>\n",
              "      <td>2.0</td>\n",
              "      <td>3.0</td>\n",
              "      <td>0.667</td>\n",
              "      <td>2.0</td>\n",
              "      <td>6.0</td>\n",
              "      <td>8.0</td>\n",
              "      <td>0.0</td>\n",
              "      <td>0.0</td>\n",
              "      <td>0.0</td>\n",
              "      <td>2.0</td>\n",
              "      <td>9.0</td>\n",
              "      <td>13.0</td>\n",
              "    </tr>\n",
              "    <tr>\n",
              "      <th>24099</th>\n",
              "      <td>24099</td>\n",
              "      <td>2017.0</td>\n",
              "      <td>Quincy Acy</td>\n",
              "      <td>PF</td>\n",
              "      <td>26.0</td>\n",
              "      <td>BRK</td>\n",
              "      <td>32.0</td>\n",
              "      <td>1.0</td>\n",
              "      <td>510.0</td>\n",
              "      <td>13.1</td>\n",
              "      <td>0.587</td>\n",
              "      <td>0.542</td>\n",
              "      <td>0.373</td>\n",
              "      <td>3.8</td>\n",
              "      <td>18.2</td>\n",
              "      <td>11.1</td>\n",
              "      <td>5.4</td>\n",
              "      <td>1.3</td>\n",
              "      <td>2.2</td>\n",
              "      <td>9.6</td>\n",
              "      <td>16.5</td>\n",
              "      <td>NaN</td>\n",
              "      <td>0.6</td>\n",
              "      <td>0.5</td>\n",
              "      <td>1.1</td>\n",
              "      <td>0.102</td>\n",
              "      <td>NaN</td>\n",
              "      <td>-1.1</td>\n",
              "      <td>-0.7</td>\n",
              "      <td>-1.8</td>\n",
              "      <td>0.0</td>\n",
              "      <td>65.0</td>\n",
              "      <td>153.0</td>\n",
              "      <td>0.425</td>\n",
              "      <td>36.0</td>\n",
              "      <td>83.0</td>\n",
              "      <td>0.434</td>\n",
              "      <td>29.0</td>\n",
              "      <td>70.0</td>\n",
              "      <td>0.414</td>\n",
              "      <td>0.542</td>\n",
              "      <td>43.0</td>\n",
              "      <td>57.0</td>\n",
              "      <td>0.754</td>\n",
              "      <td>18.0</td>\n",
              "      <td>89.0</td>\n",
              "      <td>107.0</td>\n",
              "      <td>18.0</td>\n",
              "      <td>14.0</td>\n",
              "      <td>15.0</td>\n",
              "      <td>19.0</td>\n",
              "      <td>58.0</td>\n",
              "      <td>209.0</td>\n",
              "    </tr>\n",
              "    <tr>\n",
              "      <th>24100</th>\n",
              "      <td>24100</td>\n",
              "      <td>2017.0</td>\n",
              "      <td>Steven Adams</td>\n",
              "      <td>C</td>\n",
              "      <td>23.0</td>\n",
              "      <td>OKC</td>\n",
              "      <td>80.0</td>\n",
              "      <td>80.0</td>\n",
              "      <td>2389.0</td>\n",
              "      <td>16.5</td>\n",
              "      <td>0.589</td>\n",
              "      <td>0.002</td>\n",
              "      <td>0.392</td>\n",
              "      <td>13.0</td>\n",
              "      <td>15.5</td>\n",
              "      <td>14.2</td>\n",
              "      <td>5.4</td>\n",
              "      <td>1.8</td>\n",
              "      <td>2.6</td>\n",
              "      <td>16.0</td>\n",
              "      <td>16.2</td>\n",
              "      <td>NaN</td>\n",
              "      <td>3.3</td>\n",
              "      <td>3.1</td>\n",
              "      <td>6.4</td>\n",
              "      <td>0.130</td>\n",
              "      <td>NaN</td>\n",
              "      <td>-0.7</td>\n",
              "      <td>1.2</td>\n",
              "      <td>0.5</td>\n",
              "      <td>1.5</td>\n",
              "      <td>374.0</td>\n",
              "      <td>655.0</td>\n",
              "      <td>0.571</td>\n",
              "      <td>0.0</td>\n",
              "      <td>1.0</td>\n",
              "      <td>0.000</td>\n",
              "      <td>374.0</td>\n",
              "      <td>654.0</td>\n",
              "      <td>0.572</td>\n",
              "      <td>0.571</td>\n",
              "      <td>157.0</td>\n",
              "      <td>257.0</td>\n",
              "      <td>0.611</td>\n",
              "      <td>282.0</td>\n",
              "      <td>333.0</td>\n",
              "      <td>615.0</td>\n",
              "      <td>86.0</td>\n",
              "      <td>88.0</td>\n",
              "      <td>78.0</td>\n",
              "      <td>146.0</td>\n",
              "      <td>195.0</td>\n",
              "      <td>905.0</td>\n",
              "    </tr>\n",
              "  </tbody>\n",
              "</table>\n",
              "</div>"
            ],
            "text/plain": [
              "       Unnamed: 0    Year        Player Pos  ...   BLK    TOV     PF    PTS\n",
              "24096       24096  2017.0  Alex Abrines  SG  ...   8.0   33.0  114.0  406.0\n",
              "24097       24097  2017.0    Quincy Acy  PF  ...  15.0   21.0   67.0  222.0\n",
              "24098       24098  2017.0    Quincy Acy  PF  ...   0.0    2.0    9.0   13.0\n",
              "24099       24099  2017.0    Quincy Acy  PF  ...  15.0   19.0   58.0  209.0\n",
              "24100       24100  2017.0  Steven Adams   C  ...  78.0  146.0  195.0  905.0\n",
              "\n",
              "[5 rows x 53 columns]"
            ]
          },
          "metadata": {
            "tags": []
          },
          "execution_count": 5
        }
      ]
    },
    {
      "cell_type": "markdown",
      "metadata": {
        "id": "UFCbIP9btP6Y",
        "colab_type": "text"
      },
      "source": [
        "Here we can see that a player can span multiple rows if they played for more than one team during the season. We are going to disregard the team(s) that any given player played for so that we have one row per player during the season. Whenever a player played for more than one team, they have a row with team name \"TOT\" that gives their overall statistics across all teams they played for."
      ]
    },
    {
      "cell_type": "code",
      "metadata": {
        "id": "8TTdreRq0NYV",
        "colab_type": "code",
        "outputId": "cbed8976-6e73-4b1a-b63b-f4d549af2bd6",
        "colab": {
          "base_uri": "https://localhost:8080/",
          "height": 278
        }
      },
      "source": [
        "df.loc[df.Player == 'Ersan Ilyasova']"
      ],
      "execution_count": 0,
      "outputs": [
        {
          "output_type": "execute_result",
          "data": {
            "text/html": [
              "<div>\n",
              "<style scoped>\n",
              "    .dataframe tbody tr th:only-of-type {\n",
              "        vertical-align: middle;\n",
              "    }\n",
              "\n",
              "    .dataframe tbody tr th {\n",
              "        vertical-align: top;\n",
              "    }\n",
              "\n",
              "    .dataframe thead th {\n",
              "        text-align: right;\n",
              "    }\n",
              "</style>\n",
              "<table border=\"1\" class=\"dataframe\">\n",
              "  <thead>\n",
              "    <tr style=\"text-align: right;\">\n",
              "      <th></th>\n",
              "      <th>Unnamed: 0</th>\n",
              "      <th>Year</th>\n",
              "      <th>Player</th>\n",
              "      <th>Pos</th>\n",
              "      <th>Age</th>\n",
              "      <th>Tm</th>\n",
              "      <th>G</th>\n",
              "      <th>GS</th>\n",
              "      <th>MP</th>\n",
              "      <th>PER</th>\n",
              "      <th>TS%</th>\n",
              "      <th>3PAr</th>\n",
              "      <th>FTr</th>\n",
              "      <th>ORB%</th>\n",
              "      <th>DRB%</th>\n",
              "      <th>TRB%</th>\n",
              "      <th>AST%</th>\n",
              "      <th>STL%</th>\n",
              "      <th>BLK%</th>\n",
              "      <th>TOV%</th>\n",
              "      <th>USG%</th>\n",
              "      <th>blanl</th>\n",
              "      <th>OWS</th>\n",
              "      <th>DWS</th>\n",
              "      <th>WS</th>\n",
              "      <th>WS/48</th>\n",
              "      <th>blank2</th>\n",
              "      <th>OBPM</th>\n",
              "      <th>DBPM</th>\n",
              "      <th>BPM</th>\n",
              "      <th>VORP</th>\n",
              "      <th>FG</th>\n",
              "      <th>FGA</th>\n",
              "      <th>FG%</th>\n",
              "      <th>3P</th>\n",
              "      <th>3PA</th>\n",
              "      <th>3P%</th>\n",
              "      <th>2P</th>\n",
              "      <th>2PA</th>\n",
              "      <th>2P%</th>\n",
              "      <th>eFG%</th>\n",
              "      <th>FT</th>\n",
              "      <th>FTA</th>\n",
              "      <th>FT%</th>\n",
              "      <th>ORB</th>\n",
              "      <th>DRB</th>\n",
              "      <th>TRB</th>\n",
              "      <th>AST</th>\n",
              "      <th>STL</th>\n",
              "      <th>BLK</th>\n",
              "      <th>TOV</th>\n",
              "      <th>PF</th>\n",
              "      <th>PTS</th>\n",
              "    </tr>\n",
              "  </thead>\n",
              "  <tbody>\n",
              "    <tr>\n",
              "      <th>24354</th>\n",
              "      <td>24354</td>\n",
              "      <td>2017.0</td>\n",
              "      <td>Ersan Ilyasova</td>\n",
              "      <td>PF</td>\n",
              "      <td>29.0</td>\n",
              "      <td>TOT</td>\n",
              "      <td>82.0</td>\n",
              "      <td>52.0</td>\n",
              "      <td>2142.0</td>\n",
              "      <td>14.6</td>\n",
              "      <td>0.546</td>\n",
              "      <td>0.452</td>\n",
              "      <td>0.233</td>\n",
              "      <td>5.9</td>\n",
              "      <td>18.8</td>\n",
              "      <td>12.4</td>\n",
              "      <td>11.0</td>\n",
              "      <td>1.3</td>\n",
              "      <td>0.9</td>\n",
              "      <td>10.6</td>\n",
              "      <td>22.2</td>\n",
              "      <td>NaN</td>\n",
              "      <td>1.8</td>\n",
              "      <td>2.3</td>\n",
              "      <td>4.1</td>\n",
              "      <td>0.091</td>\n",
              "      <td>NaN</td>\n",
              "      <td>0.3</td>\n",
              "      <td>-0.8</td>\n",
              "      <td>-0.5</td>\n",
              "      <td>0.8</td>\n",
              "      <td>384.0</td>\n",
              "      <td>890.0</td>\n",
              "      <td>0.431</td>\n",
              "      <td>142.0</td>\n",
              "      <td>402.0</td>\n",
              "      <td>0.353</td>\n",
              "      <td>242.0</td>\n",
              "      <td>488.0</td>\n",
              "      <td>0.496</td>\n",
              "      <td>0.511</td>\n",
              "      <td>161.0</td>\n",
              "      <td>207.0</td>\n",
              "      <td>0.778</td>\n",
              "      <td>115.0</td>\n",
              "      <td>366.0</td>\n",
              "      <td>481.0</td>\n",
              "      <td>141.0</td>\n",
              "      <td>58.0</td>\n",
              "      <td>23.0</td>\n",
              "      <td>116.0</td>\n",
              "      <td>211.0</td>\n",
              "      <td>1071.0</td>\n",
              "    </tr>\n",
              "    <tr>\n",
              "      <th>24355</th>\n",
              "      <td>24355</td>\n",
              "      <td>2017.0</td>\n",
              "      <td>Ersan Ilyasova</td>\n",
              "      <td>PF</td>\n",
              "      <td>29.0</td>\n",
              "      <td>OKC</td>\n",
              "      <td>3.0</td>\n",
              "      <td>0.0</td>\n",
              "      <td>62.0</td>\n",
              "      <td>6.9</td>\n",
              "      <td>0.469</td>\n",
              "      <td>0.750</td>\n",
              "      <td>0.000</td>\n",
              "      <td>3.6</td>\n",
              "      <td>25.0</td>\n",
              "      <td>14.3</td>\n",
              "      <td>2.2</td>\n",
              "      <td>2.4</td>\n",
              "      <td>1.3</td>\n",
              "      <td>20.0</td>\n",
              "      <td>13.7</td>\n",
              "      <td>NaN</td>\n",
              "      <td>-0.1</td>\n",
              "      <td>0.1</td>\n",
              "      <td>0.0</td>\n",
              "      <td>0.012</td>\n",
              "      <td>NaN</td>\n",
              "      <td>-5.8</td>\n",
              "      <td>-0.4</td>\n",
              "      <td>-6.3</td>\n",
              "      <td>-0.1</td>\n",
              "      <td>6.0</td>\n",
              "      <td>16.0</td>\n",
              "      <td>0.375</td>\n",
              "      <td>3.0</td>\n",
              "      <td>12.0</td>\n",
              "      <td>0.250</td>\n",
              "      <td>3.0</td>\n",
              "      <td>4.0</td>\n",
              "      <td>0.750</td>\n",
              "      <td>0.469</td>\n",
              "      <td>0.0</td>\n",
              "      <td>0.0</td>\n",
              "      <td>NaN</td>\n",
              "      <td>2.0</td>\n",
              "      <td>14.0</td>\n",
              "      <td>16.0</td>\n",
              "      <td>1.0</td>\n",
              "      <td>3.0</td>\n",
              "      <td>1.0</td>\n",
              "      <td>4.0</td>\n",
              "      <td>5.0</td>\n",
              "      <td>15.0</td>\n",
              "    </tr>\n",
              "    <tr>\n",
              "      <th>24356</th>\n",
              "      <td>24356</td>\n",
              "      <td>2017.0</td>\n",
              "      <td>Ersan Ilyasova</td>\n",
              "      <td>PF</td>\n",
              "      <td>29.0</td>\n",
              "      <td>PHI</td>\n",
              "      <td>53.0</td>\n",
              "      <td>40.0</td>\n",
              "      <td>1447.0</td>\n",
              "      <td>15.4</td>\n",
              "      <td>0.553</td>\n",
              "      <td>0.460</td>\n",
              "      <td>0.219</td>\n",
              "      <td>5.4</td>\n",
              "      <td>18.5</td>\n",
              "      <td>12.0</td>\n",
              "      <td>11.5</td>\n",
              "      <td>1.1</td>\n",
              "      <td>0.8</td>\n",
              "      <td>9.9</td>\n",
              "      <td>23.6</td>\n",
              "      <td>NaN</td>\n",
              "      <td>1.4</td>\n",
              "      <td>1.3</td>\n",
              "      <td>2.6</td>\n",
              "      <td>0.087</td>\n",
              "      <td>NaN</td>\n",
              "      <td>0.9</td>\n",
              "      <td>-1.3</td>\n",
              "      <td>-0.4</td>\n",
              "      <td>0.6</td>\n",
              "      <td>285.0</td>\n",
              "      <td>648.0</td>\n",
              "      <td>0.440</td>\n",
              "      <td>107.0</td>\n",
              "      <td>298.0</td>\n",
              "      <td>0.359</td>\n",
              "      <td>178.0</td>\n",
              "      <td>350.0</td>\n",
              "      <td>0.509</td>\n",
              "      <td>0.522</td>\n",
              "      <td>109.0</td>\n",
              "      <td>142.0</td>\n",
              "      <td>0.768</td>\n",
              "      <td>71.0</td>\n",
              "      <td>243.0</td>\n",
              "      <td>314.0</td>\n",
              "      <td>97.0</td>\n",
              "      <td>33.0</td>\n",
              "      <td>14.0</td>\n",
              "      <td>78.0</td>\n",
              "      <td>133.0</td>\n",
              "      <td>786.0</td>\n",
              "    </tr>\n",
              "    <tr>\n",
              "      <th>24357</th>\n",
              "      <td>24357</td>\n",
              "      <td>2017.0</td>\n",
              "      <td>Ersan Ilyasova</td>\n",
              "      <td>PF</td>\n",
              "      <td>29.0</td>\n",
              "      <td>ATL</td>\n",
              "      <td>26.0</td>\n",
              "      <td>12.0</td>\n",
              "      <td>633.0</td>\n",
              "      <td>13.5</td>\n",
              "      <td>0.530</td>\n",
              "      <td>0.407</td>\n",
              "      <td>0.288</td>\n",
              "      <td>7.4</td>\n",
              "      <td>18.7</td>\n",
              "      <td>13.1</td>\n",
              "      <td>10.6</td>\n",
              "      <td>1.7</td>\n",
              "      <td>1.1</td>\n",
              "      <td>11.8</td>\n",
              "      <td>19.9</td>\n",
              "      <td>NaN</td>\n",
              "      <td>0.5</td>\n",
              "      <td>0.9</td>\n",
              "      <td>1.4</td>\n",
              "      <td>0.106</td>\n",
              "      <td>NaN</td>\n",
              "      <td>-0.6</td>\n",
              "      <td>0.5</td>\n",
              "      <td>-0.2</td>\n",
              "      <td>0.3</td>\n",
              "      <td>93.0</td>\n",
              "      <td>226.0</td>\n",
              "      <td>0.412</td>\n",
              "      <td>32.0</td>\n",
              "      <td>92.0</td>\n",
              "      <td>0.348</td>\n",
              "      <td>61.0</td>\n",
              "      <td>134.0</td>\n",
              "      <td>0.455</td>\n",
              "      <td>0.482</td>\n",
              "      <td>52.0</td>\n",
              "      <td>65.0</td>\n",
              "      <td>0.800</td>\n",
              "      <td>42.0</td>\n",
              "      <td>109.0</td>\n",
              "      <td>151.0</td>\n",
              "      <td>43.0</td>\n",
              "      <td>22.0</td>\n",
              "      <td>8.0</td>\n",
              "      <td>34.0</td>\n",
              "      <td>73.0</td>\n",
              "      <td>270.0</td>\n",
              "    </tr>\n",
              "  </tbody>\n",
              "</table>\n",
              "</div>"
            ],
            "text/plain": [
              "       Unnamed: 0    Year          Player Pos  ...   BLK    TOV     PF     PTS\n",
              "24354       24354  2017.0  Ersan Ilyasova  PF  ...  23.0  116.0  211.0  1071.0\n",
              "24355       24355  2017.0  Ersan Ilyasova  PF  ...   1.0    4.0    5.0    15.0\n",
              "24356       24356  2017.0  Ersan Ilyasova  PF  ...  14.0   78.0  133.0   786.0\n",
              "24357       24357  2017.0  Ersan Ilyasova  PF  ...   8.0   34.0   73.0   270.0\n",
              "\n",
              "[4 rows x 53 columns]"
            ]
          },
          "metadata": {
            "tags": []
          },
          "execution_count": 6
        }
      ]
    },
    {
      "cell_type": "code",
      "metadata": {
        "id": "hYS920_Btq2a",
        "colab_type": "code",
        "outputId": "99a39701-8cb3-44d5-be2f-1c033d33a224",
        "colab": {
          "base_uri": "https://localhost:8080/",
          "height": 326
        }
      },
      "source": [
        "# Include only \"TOT\" for players who played for multiple teams\n",
        "tot_df = df.loc[df.Tm=='TOT']\n",
        "players2 = tot_df['Player']\n",
        "df.drop(tot_df.index + 1, axis=0, inplace=True)\n",
        "df.drop(tot_df.index + 2, axis=0, inplace=True)\n",
        "df.drop(24357, axis=0, inplace=True)\n",
        "df.head()"
      ],
      "execution_count": 0,
      "outputs": [
        {
          "output_type": "execute_result",
          "data": {
            "text/html": [
              "<div>\n",
              "<style scoped>\n",
              "    .dataframe tbody tr th:only-of-type {\n",
              "        vertical-align: middle;\n",
              "    }\n",
              "\n",
              "    .dataframe tbody tr th {\n",
              "        vertical-align: top;\n",
              "    }\n",
              "\n",
              "    .dataframe thead th {\n",
              "        text-align: right;\n",
              "    }\n",
              "</style>\n",
              "<table border=\"1\" class=\"dataframe\">\n",
              "  <thead>\n",
              "    <tr style=\"text-align: right;\">\n",
              "      <th></th>\n",
              "      <th>Unnamed: 0</th>\n",
              "      <th>Year</th>\n",
              "      <th>Player</th>\n",
              "      <th>Pos</th>\n",
              "      <th>Age</th>\n",
              "      <th>Tm</th>\n",
              "      <th>G</th>\n",
              "      <th>GS</th>\n",
              "      <th>MP</th>\n",
              "      <th>PER</th>\n",
              "      <th>TS%</th>\n",
              "      <th>3PAr</th>\n",
              "      <th>FTr</th>\n",
              "      <th>ORB%</th>\n",
              "      <th>DRB%</th>\n",
              "      <th>TRB%</th>\n",
              "      <th>AST%</th>\n",
              "      <th>STL%</th>\n",
              "      <th>BLK%</th>\n",
              "      <th>TOV%</th>\n",
              "      <th>USG%</th>\n",
              "      <th>blanl</th>\n",
              "      <th>OWS</th>\n",
              "      <th>DWS</th>\n",
              "      <th>WS</th>\n",
              "      <th>WS/48</th>\n",
              "      <th>blank2</th>\n",
              "      <th>OBPM</th>\n",
              "      <th>DBPM</th>\n",
              "      <th>BPM</th>\n",
              "      <th>VORP</th>\n",
              "      <th>FG</th>\n",
              "      <th>FGA</th>\n",
              "      <th>FG%</th>\n",
              "      <th>3P</th>\n",
              "      <th>3PA</th>\n",
              "      <th>3P%</th>\n",
              "      <th>2P</th>\n",
              "      <th>2PA</th>\n",
              "      <th>2P%</th>\n",
              "      <th>eFG%</th>\n",
              "      <th>FT</th>\n",
              "      <th>FTA</th>\n",
              "      <th>FT%</th>\n",
              "      <th>ORB</th>\n",
              "      <th>DRB</th>\n",
              "      <th>TRB</th>\n",
              "      <th>AST</th>\n",
              "      <th>STL</th>\n",
              "      <th>BLK</th>\n",
              "      <th>TOV</th>\n",
              "      <th>PF</th>\n",
              "      <th>PTS</th>\n",
              "    </tr>\n",
              "  </thead>\n",
              "  <tbody>\n",
              "    <tr>\n",
              "      <th>24096</th>\n",
              "      <td>24096</td>\n",
              "      <td>2017.0</td>\n",
              "      <td>Alex Abrines</td>\n",
              "      <td>SG</td>\n",
              "      <td>23.0</td>\n",
              "      <td>OKC</td>\n",
              "      <td>68.0</td>\n",
              "      <td>6.0</td>\n",
              "      <td>1055.0</td>\n",
              "      <td>10.1</td>\n",
              "      <td>0.560</td>\n",
              "      <td>0.724</td>\n",
              "      <td>0.144</td>\n",
              "      <td>1.9</td>\n",
              "      <td>7.1</td>\n",
              "      <td>4.5</td>\n",
              "      <td>5.5</td>\n",
              "      <td>1.7</td>\n",
              "      <td>0.6</td>\n",
              "      <td>8.3</td>\n",
              "      <td>15.9</td>\n",
              "      <td>NaN</td>\n",
              "      <td>1.2</td>\n",
              "      <td>0.9</td>\n",
              "      <td>2.1</td>\n",
              "      <td>0.095</td>\n",
              "      <td>NaN</td>\n",
              "      <td>-0.3</td>\n",
              "      <td>-2.2</td>\n",
              "      <td>-2.5</td>\n",
              "      <td>-0.1</td>\n",
              "      <td>134.0</td>\n",
              "      <td>341.0</td>\n",
              "      <td>0.393</td>\n",
              "      <td>94.0</td>\n",
              "      <td>247.0</td>\n",
              "      <td>0.381</td>\n",
              "      <td>40.0</td>\n",
              "      <td>94.0</td>\n",
              "      <td>0.426</td>\n",
              "      <td>0.531</td>\n",
              "      <td>44.0</td>\n",
              "      <td>49.0</td>\n",
              "      <td>0.898</td>\n",
              "      <td>18.0</td>\n",
              "      <td>68.0</td>\n",
              "      <td>86.0</td>\n",
              "      <td>40.0</td>\n",
              "      <td>37.0</td>\n",
              "      <td>8.0</td>\n",
              "      <td>33.0</td>\n",
              "      <td>114.0</td>\n",
              "      <td>406.0</td>\n",
              "    </tr>\n",
              "    <tr>\n",
              "      <th>24097</th>\n",
              "      <td>24097</td>\n",
              "      <td>2017.0</td>\n",
              "      <td>Quincy Acy</td>\n",
              "      <td>PF</td>\n",
              "      <td>26.0</td>\n",
              "      <td>TOT</td>\n",
              "      <td>38.0</td>\n",
              "      <td>1.0</td>\n",
              "      <td>558.0</td>\n",
              "      <td>11.8</td>\n",
              "      <td>0.565</td>\n",
              "      <td>0.529</td>\n",
              "      <td>0.353</td>\n",
              "      <td>3.9</td>\n",
              "      <td>18.0</td>\n",
              "      <td>11.0</td>\n",
              "      <td>4.9</td>\n",
              "      <td>1.2</td>\n",
              "      <td>2.0</td>\n",
              "      <td>9.7</td>\n",
              "      <td>16.8</td>\n",
              "      <td>NaN</td>\n",
              "      <td>0.5</td>\n",
              "      <td>0.5</td>\n",
              "      <td>0.9</td>\n",
              "      <td>0.082</td>\n",
              "      <td>NaN</td>\n",
              "      <td>-1.8</td>\n",
              "      <td>-1.2</td>\n",
              "      <td>-3.0</td>\n",
              "      <td>-0.1</td>\n",
              "      <td>70.0</td>\n",
              "      <td>170.0</td>\n",
              "      <td>0.412</td>\n",
              "      <td>37.0</td>\n",
              "      <td>90.0</td>\n",
              "      <td>0.411</td>\n",
              "      <td>33.0</td>\n",
              "      <td>80.0</td>\n",
              "      <td>0.413</td>\n",
              "      <td>0.521</td>\n",
              "      <td>45.0</td>\n",
              "      <td>60.0</td>\n",
              "      <td>0.750</td>\n",
              "      <td>20.0</td>\n",
              "      <td>95.0</td>\n",
              "      <td>115.0</td>\n",
              "      <td>18.0</td>\n",
              "      <td>14.0</td>\n",
              "      <td>15.0</td>\n",
              "      <td>21.0</td>\n",
              "      <td>67.0</td>\n",
              "      <td>222.0</td>\n",
              "    </tr>\n",
              "    <tr>\n",
              "      <th>24100</th>\n",
              "      <td>24100</td>\n",
              "      <td>2017.0</td>\n",
              "      <td>Steven Adams</td>\n",
              "      <td>C</td>\n",
              "      <td>23.0</td>\n",
              "      <td>OKC</td>\n",
              "      <td>80.0</td>\n",
              "      <td>80.0</td>\n",
              "      <td>2389.0</td>\n",
              "      <td>16.5</td>\n",
              "      <td>0.589</td>\n",
              "      <td>0.002</td>\n",
              "      <td>0.392</td>\n",
              "      <td>13.0</td>\n",
              "      <td>15.5</td>\n",
              "      <td>14.2</td>\n",
              "      <td>5.4</td>\n",
              "      <td>1.8</td>\n",
              "      <td>2.6</td>\n",
              "      <td>16.0</td>\n",
              "      <td>16.2</td>\n",
              "      <td>NaN</td>\n",
              "      <td>3.3</td>\n",
              "      <td>3.1</td>\n",
              "      <td>6.4</td>\n",
              "      <td>0.130</td>\n",
              "      <td>NaN</td>\n",
              "      <td>-0.7</td>\n",
              "      <td>1.2</td>\n",
              "      <td>0.5</td>\n",
              "      <td>1.5</td>\n",
              "      <td>374.0</td>\n",
              "      <td>655.0</td>\n",
              "      <td>0.571</td>\n",
              "      <td>0.0</td>\n",
              "      <td>1.0</td>\n",
              "      <td>0.000</td>\n",
              "      <td>374.0</td>\n",
              "      <td>654.0</td>\n",
              "      <td>0.572</td>\n",
              "      <td>0.571</td>\n",
              "      <td>157.0</td>\n",
              "      <td>257.0</td>\n",
              "      <td>0.611</td>\n",
              "      <td>282.0</td>\n",
              "      <td>333.0</td>\n",
              "      <td>615.0</td>\n",
              "      <td>86.0</td>\n",
              "      <td>88.0</td>\n",
              "      <td>78.0</td>\n",
              "      <td>146.0</td>\n",
              "      <td>195.0</td>\n",
              "      <td>905.0</td>\n",
              "    </tr>\n",
              "    <tr>\n",
              "      <th>24101</th>\n",
              "      <td>24101</td>\n",
              "      <td>2017.0</td>\n",
              "      <td>Arron Afflalo</td>\n",
              "      <td>SG</td>\n",
              "      <td>31.0</td>\n",
              "      <td>SAC</td>\n",
              "      <td>61.0</td>\n",
              "      <td>45.0</td>\n",
              "      <td>1580.0</td>\n",
              "      <td>9.0</td>\n",
              "      <td>0.559</td>\n",
              "      <td>0.360</td>\n",
              "      <td>0.221</td>\n",
              "      <td>0.7</td>\n",
              "      <td>8.4</td>\n",
              "      <td>4.6</td>\n",
              "      <td>7.4</td>\n",
              "      <td>0.7</td>\n",
              "      <td>0.4</td>\n",
              "      <td>8.4</td>\n",
              "      <td>14.4</td>\n",
              "      <td>NaN</td>\n",
              "      <td>1.2</td>\n",
              "      <td>0.2</td>\n",
              "      <td>1.4</td>\n",
              "      <td>0.043</td>\n",
              "      <td>NaN</td>\n",
              "      <td>-1.4</td>\n",
              "      <td>-2.0</td>\n",
              "      <td>-3.5</td>\n",
              "      <td>-0.6</td>\n",
              "      <td>185.0</td>\n",
              "      <td>420.0</td>\n",
              "      <td>0.440</td>\n",
              "      <td>62.0</td>\n",
              "      <td>151.0</td>\n",
              "      <td>0.411</td>\n",
              "      <td>123.0</td>\n",
              "      <td>269.0</td>\n",
              "      <td>0.457</td>\n",
              "      <td>0.514</td>\n",
              "      <td>83.0</td>\n",
              "      <td>93.0</td>\n",
              "      <td>0.892</td>\n",
              "      <td>9.0</td>\n",
              "      <td>116.0</td>\n",
              "      <td>125.0</td>\n",
              "      <td>78.0</td>\n",
              "      <td>21.0</td>\n",
              "      <td>7.0</td>\n",
              "      <td>42.0</td>\n",
              "      <td>104.0</td>\n",
              "      <td>515.0</td>\n",
              "    </tr>\n",
              "    <tr>\n",
              "      <th>24102</th>\n",
              "      <td>24102</td>\n",
              "      <td>2017.0</td>\n",
              "      <td>Alexis Ajinca</td>\n",
              "      <td>C</td>\n",
              "      <td>28.0</td>\n",
              "      <td>NOP</td>\n",
              "      <td>39.0</td>\n",
              "      <td>15.0</td>\n",
              "      <td>584.0</td>\n",
              "      <td>12.9</td>\n",
              "      <td>0.529</td>\n",
              "      <td>0.022</td>\n",
              "      <td>0.225</td>\n",
              "      <td>8.3</td>\n",
              "      <td>23.8</td>\n",
              "      <td>16.0</td>\n",
              "      <td>3.1</td>\n",
              "      <td>1.7</td>\n",
              "      <td>3.1</td>\n",
              "      <td>13.7</td>\n",
              "      <td>17.2</td>\n",
              "      <td>NaN</td>\n",
              "      <td>0.0</td>\n",
              "      <td>0.9</td>\n",
              "      <td>1.0</td>\n",
              "      <td>0.080</td>\n",
              "      <td>NaN</td>\n",
              "      <td>-5.1</td>\n",
              "      <td>1.0</td>\n",
              "      <td>-4.1</td>\n",
              "      <td>-0.3</td>\n",
              "      <td>89.0</td>\n",
              "      <td>178.0</td>\n",
              "      <td>0.500</td>\n",
              "      <td>0.0</td>\n",
              "      <td>4.0</td>\n",
              "      <td>0.000</td>\n",
              "      <td>89.0</td>\n",
              "      <td>174.0</td>\n",
              "      <td>0.511</td>\n",
              "      <td>0.500</td>\n",
              "      <td>29.0</td>\n",
              "      <td>40.0</td>\n",
              "      <td>0.725</td>\n",
              "      <td>46.0</td>\n",
              "      <td>131.0</td>\n",
              "      <td>177.0</td>\n",
              "      <td>12.0</td>\n",
              "      <td>20.0</td>\n",
              "      <td>22.0</td>\n",
              "      <td>31.0</td>\n",
              "      <td>77.0</td>\n",
              "      <td>207.0</td>\n",
              "    </tr>\n",
              "  </tbody>\n",
              "</table>\n",
              "</div>"
            ],
            "text/plain": [
              "       Unnamed: 0    Year         Player Pos  ...   BLK    TOV     PF    PTS\n",
              "24096       24096  2017.0   Alex Abrines  SG  ...   8.0   33.0  114.0  406.0\n",
              "24097       24097  2017.0     Quincy Acy  PF  ...  15.0   21.0   67.0  222.0\n",
              "24100       24100  2017.0   Steven Adams   C  ...  78.0  146.0  195.0  905.0\n",
              "24101       24101  2017.0  Arron Afflalo  SG  ...   7.0   42.0  104.0  515.0\n",
              "24102       24102  2017.0  Alexis Ajinca   C  ...  22.0   31.0   77.0  207.0\n",
              "\n",
              "[5 rows x 53 columns]"
            ]
          },
          "metadata": {
            "tags": []
          },
          "execution_count": 7
        }
      ]
    },
    {
      "cell_type": "markdown",
      "metadata": {
        "id": "9TTuEGDsLo3N",
        "colab_type": "text"
      },
      "source": [
        "We'll first select some initial features, likely more than will be used in the final model in order to give us some wiggle room. We have not included many metrics that attempt to quanitify a player's overall value to the team, such as value over replacement (VORP) or win shares, as these are quite unlikely to provide much about whether a player will score many points. Likewise, we have left out some defense focussed features.\n",
        "\n",
        "All features we selected:\n",
        "* Pos: position\n",
        "* Age: player age\n",
        "* Tm: team\n",
        "* G: games\n",
        "* MP: minutes played per game\n",
        "* PER: player efficiency rating\n",
        "* TS%: true shooting %\n",
        "* TRB%: total rebound %\n",
        "* STL%: steal %\n",
        "* TOV%: turnover %\n",
        "* FGA: field goal attempts per game\n",
        "* 3P: 3-point field goals\n",
        "* 3P%: 3-point field goal percentage\n",
        "* 2P: 2-point field goals\n",
        "* 2P%: 2-point field goal percentage\n",
        "* eFG%: effective field goal percentage\n",
        "* PTS: points per game\n"
      ]
    },
    {
      "cell_type": "code",
      "metadata": {
        "id": "1gF_DLtlQ7eA",
        "colab_type": "code",
        "outputId": "b5fb9983-6db2-47dd-db8d-52832018505b",
        "colab": {
          "base_uri": "https://localhost:8080/",
          "height": 309
        }
      },
      "source": [
        "\n",
        "features = ['Player', 'Pos', 'Age', 'G', 'MP', 'PER', 'TS%', 'TRB%', 'STL%', 'TOV%', 'FGA', '3P', '3PA', '3P%', '2P', '2PA', '2P%', 'eFG%', 'PTS']\n",
        "\n",
        "df = df[features]\n",
        "\n",
        "# Change minutes played, FG attempts, and points to be per game\n",
        "df['MP'] = df['MP'] / df['G']\n",
        "df['FGA'] = df['FGA'] / df['G']\n",
        "df['PTS'] = df['PTS'] / df['G']\n",
        "\n",
        "df.head()"
      ],
      "execution_count": 0,
      "outputs": [
        {
          "output_type": "execute_result",
          "data": {
            "text/html": [
              "<div>\n",
              "<style scoped>\n",
              "    .dataframe tbody tr th:only-of-type {\n",
              "        vertical-align: middle;\n",
              "    }\n",
              "\n",
              "    .dataframe tbody tr th {\n",
              "        vertical-align: top;\n",
              "    }\n",
              "\n",
              "    .dataframe thead th {\n",
              "        text-align: right;\n",
              "    }\n",
              "</style>\n",
              "<table border=\"1\" class=\"dataframe\">\n",
              "  <thead>\n",
              "    <tr style=\"text-align: right;\">\n",
              "      <th></th>\n",
              "      <th>Player</th>\n",
              "      <th>Pos</th>\n",
              "      <th>Age</th>\n",
              "      <th>G</th>\n",
              "      <th>MP</th>\n",
              "      <th>PER</th>\n",
              "      <th>TS%</th>\n",
              "      <th>TRB%</th>\n",
              "      <th>STL%</th>\n",
              "      <th>TOV%</th>\n",
              "      <th>FGA</th>\n",
              "      <th>3P</th>\n",
              "      <th>3PA</th>\n",
              "      <th>3P%</th>\n",
              "      <th>2P</th>\n",
              "      <th>2PA</th>\n",
              "      <th>2P%</th>\n",
              "      <th>eFG%</th>\n",
              "      <th>PTS</th>\n",
              "    </tr>\n",
              "  </thead>\n",
              "  <tbody>\n",
              "    <tr>\n",
              "      <th>24096</th>\n",
              "      <td>Alex Abrines</td>\n",
              "      <td>SG</td>\n",
              "      <td>23.0</td>\n",
              "      <td>68.0</td>\n",
              "      <td>15.514706</td>\n",
              "      <td>10.1</td>\n",
              "      <td>0.560</td>\n",
              "      <td>4.5</td>\n",
              "      <td>1.7</td>\n",
              "      <td>8.3</td>\n",
              "      <td>5.014706</td>\n",
              "      <td>94.0</td>\n",
              "      <td>247.0</td>\n",
              "      <td>0.381</td>\n",
              "      <td>40.0</td>\n",
              "      <td>94.0</td>\n",
              "      <td>0.426</td>\n",
              "      <td>0.531</td>\n",
              "      <td>5.970588</td>\n",
              "    </tr>\n",
              "    <tr>\n",
              "      <th>24097</th>\n",
              "      <td>Quincy Acy</td>\n",
              "      <td>PF</td>\n",
              "      <td>26.0</td>\n",
              "      <td>38.0</td>\n",
              "      <td>14.684211</td>\n",
              "      <td>11.8</td>\n",
              "      <td>0.565</td>\n",
              "      <td>11.0</td>\n",
              "      <td>1.2</td>\n",
              "      <td>9.7</td>\n",
              "      <td>4.473684</td>\n",
              "      <td>37.0</td>\n",
              "      <td>90.0</td>\n",
              "      <td>0.411</td>\n",
              "      <td>33.0</td>\n",
              "      <td>80.0</td>\n",
              "      <td>0.413</td>\n",
              "      <td>0.521</td>\n",
              "      <td>5.842105</td>\n",
              "    </tr>\n",
              "    <tr>\n",
              "      <th>24100</th>\n",
              "      <td>Steven Adams</td>\n",
              "      <td>C</td>\n",
              "      <td>23.0</td>\n",
              "      <td>80.0</td>\n",
              "      <td>29.862500</td>\n",
              "      <td>16.5</td>\n",
              "      <td>0.589</td>\n",
              "      <td>14.2</td>\n",
              "      <td>1.8</td>\n",
              "      <td>16.0</td>\n",
              "      <td>8.187500</td>\n",
              "      <td>0.0</td>\n",
              "      <td>1.0</td>\n",
              "      <td>0.000</td>\n",
              "      <td>374.0</td>\n",
              "      <td>654.0</td>\n",
              "      <td>0.572</td>\n",
              "      <td>0.571</td>\n",
              "      <td>11.312500</td>\n",
              "    </tr>\n",
              "    <tr>\n",
              "      <th>24101</th>\n",
              "      <td>Arron Afflalo</td>\n",
              "      <td>SG</td>\n",
              "      <td>31.0</td>\n",
              "      <td>61.0</td>\n",
              "      <td>25.901639</td>\n",
              "      <td>9.0</td>\n",
              "      <td>0.559</td>\n",
              "      <td>4.6</td>\n",
              "      <td>0.7</td>\n",
              "      <td>8.4</td>\n",
              "      <td>6.885246</td>\n",
              "      <td>62.0</td>\n",
              "      <td>151.0</td>\n",
              "      <td>0.411</td>\n",
              "      <td>123.0</td>\n",
              "      <td>269.0</td>\n",
              "      <td>0.457</td>\n",
              "      <td>0.514</td>\n",
              "      <td>8.442623</td>\n",
              "    </tr>\n",
              "    <tr>\n",
              "      <th>24102</th>\n",
              "      <td>Alexis Ajinca</td>\n",
              "      <td>C</td>\n",
              "      <td>28.0</td>\n",
              "      <td>39.0</td>\n",
              "      <td>14.974359</td>\n",
              "      <td>12.9</td>\n",
              "      <td>0.529</td>\n",
              "      <td>16.0</td>\n",
              "      <td>1.7</td>\n",
              "      <td>13.7</td>\n",
              "      <td>4.564103</td>\n",
              "      <td>0.0</td>\n",
              "      <td>4.0</td>\n",
              "      <td>0.000</td>\n",
              "      <td>89.0</td>\n",
              "      <td>174.0</td>\n",
              "      <td>0.511</td>\n",
              "      <td>0.500</td>\n",
              "      <td>5.307692</td>\n",
              "    </tr>\n",
              "  </tbody>\n",
              "</table>\n",
              "</div>"
            ],
            "text/plain": [
              "              Player Pos   Age     G  ...    2PA    2P%   eFG%        PTS\n",
              "24096   Alex Abrines  SG  23.0  68.0  ...   94.0  0.426  0.531   5.970588\n",
              "24097     Quincy Acy  PF  26.0  38.0  ...   80.0  0.413  0.521   5.842105\n",
              "24100   Steven Adams   C  23.0  80.0  ...  654.0  0.572  0.571  11.312500\n",
              "24101  Arron Afflalo  SG  31.0  61.0  ...  269.0  0.457  0.514   8.442623\n",
              "24102  Alexis Ajinca   C  28.0  39.0  ...  174.0  0.511  0.500   5.307692\n",
              "\n",
              "[5 rows x 19 columns]"
            ]
          },
          "metadata": {
            "tags": []
          },
          "execution_count": 8
        }
      ]
    },
    {
      "cell_type": "code",
      "metadata": {
        "id": "iK6VoSL5jWvD",
        "colab_type": "code",
        "outputId": "5979cce8-7166-41be-c06c-8ec585649d07",
        "colab": {
          "base_uri": "https://localhost:8080/",
          "height": 459
        }
      },
      "source": [
        "df.info()"
      ],
      "execution_count": 0,
      "outputs": [
        {
          "output_type": "stream",
          "text": [
            "<class 'pandas.core.frame.DataFrame'>\n",
            "Int64Index: 488 entries, 24096 to 24690\n",
            "Data columns (total 19 columns):\n",
            " #   Column  Non-Null Count  Dtype  \n",
            "---  ------  --------------  -----  \n",
            " 0   Player  488 non-null    object \n",
            " 1   Pos     488 non-null    object \n",
            " 2   Age     488 non-null    float64\n",
            " 3   G       488 non-null    float64\n",
            " 4   MP      488 non-null    float64\n",
            " 5   PER     488 non-null    float64\n",
            " 6   TS%     487 non-null    float64\n",
            " 7   TRB%    488 non-null    float64\n",
            " 8   STL%    488 non-null    float64\n",
            " 9   TOV%    487 non-null    float64\n",
            " 10  FGA     488 non-null    float64\n",
            " 11  3P      488 non-null    float64\n",
            " 12  3PA     488 non-null    float64\n",
            " 13  3P%     452 non-null    float64\n",
            " 14  2P      488 non-null    float64\n",
            " 15  2PA     488 non-null    float64\n",
            " 16  2P%     486 non-null    float64\n",
            " 17  eFG%    487 non-null    float64\n",
            " 18  PTS     488 non-null    float64\n",
            "dtypes: float64(17), object(2)\n",
            "memory usage: 76.2+ KB\n"
          ],
          "name": "stdout"
        }
      ]
    },
    {
      "cell_type": "markdown",
      "metadata": {
        "id": "8ZquFYizkPF4",
        "colab_type": "text"
      },
      "source": [
        "Note that there are some missing values for 2 and 3-point percentages, despite no missing values for 2 and 3-point attempts or baskets made. After some snooping, it can be discovered that these NaN values are a result of a division by zero error. Since 2 and 3-point percentages are calculated by dividing attempts made by total attempts, if a player made no 3 point attempts, the resulting 3-point percentage is NaN. We don't want to simply drop all players that didn't make any 3-point attempts, because players like Boban Marjanovic (who took no 3-point attempts that season) are inarguably important for a team's scoring. To get around this, we can simply find which players had no 3-point attempts and give them 3-point percentage values of 0."
      ]
    },
    {
      "cell_type": "code",
      "metadata": {
        "id": "1yasjM6kkLtk",
        "colab_type": "code",
        "colab": {}
      },
      "source": [
        "df.loc[df['3PA'] == 0, '3P%'] = 0\n",
        "df.loc[df['2PA'] == 0, '2P%'] = 0"
      ],
      "execution_count": 0,
      "outputs": []
    },
    {
      "cell_type": "code",
      "metadata": {
        "id": "6XsPAU8glgyo",
        "colab_type": "code",
        "outputId": "97aaf3ba-df3c-4bf6-889d-31f8827d784e",
        "colab": {
          "base_uri": "https://localhost:8080/",
          "height": 80
        }
      },
      "source": [
        "df[df.isna().any(axis=1)]"
      ],
      "execution_count": 0,
      "outputs": [
        {
          "output_type": "execute_result",
          "data": {
            "text/html": [
              "<div>\n",
              "<style scoped>\n",
              "    .dataframe tbody tr th:only-of-type {\n",
              "        vertical-align: middle;\n",
              "    }\n",
              "\n",
              "    .dataframe tbody tr th {\n",
              "        vertical-align: top;\n",
              "    }\n",
              "\n",
              "    .dataframe thead th {\n",
              "        text-align: right;\n",
              "    }\n",
              "</style>\n",
              "<table border=\"1\" class=\"dataframe\">\n",
              "  <thead>\n",
              "    <tr style=\"text-align: right;\">\n",
              "      <th></th>\n",
              "      <th>Player</th>\n",
              "      <th>Pos</th>\n",
              "      <th>Age</th>\n",
              "      <th>G</th>\n",
              "      <th>MP</th>\n",
              "      <th>PER</th>\n",
              "      <th>TS%</th>\n",
              "      <th>TRB%</th>\n",
              "      <th>STL%</th>\n",
              "      <th>TOV%</th>\n",
              "      <th>FGA</th>\n",
              "      <th>3P</th>\n",
              "      <th>3PA</th>\n",
              "      <th>3P%</th>\n",
              "      <th>2P</th>\n",
              "      <th>2PA</th>\n",
              "      <th>2P%</th>\n",
              "      <th>eFG%</th>\n",
              "      <th>PTS</th>\n",
              "    </tr>\n",
              "  </thead>\n",
              "  <tbody>\n",
              "    <tr>\n",
              "      <th>24344</th>\n",
              "      <td>Danuel House</td>\n",
              "      <td>SG</td>\n",
              "      <td>23.0</td>\n",
              "      <td>1.0</td>\n",
              "      <td>1.0</td>\n",
              "      <td>12.2</td>\n",
              "      <td>NaN</td>\n",
              "      <td>56.4</td>\n",
              "      <td>0.0</td>\n",
              "      <td>NaN</td>\n",
              "      <td>0.0</td>\n",
              "      <td>0.0</td>\n",
              "      <td>0.0</td>\n",
              "      <td>0.0</td>\n",
              "      <td>0.0</td>\n",
              "      <td>0.0</td>\n",
              "      <td>0.0</td>\n",
              "      <td>NaN</td>\n",
              "      <td>0.0</td>\n",
              "    </tr>\n",
              "  </tbody>\n",
              "</table>\n",
              "</div>"
            ],
            "text/plain": [
              "             Player Pos   Age    G   MP   PER  ...  3P%   2P  2PA  2P%  eFG%  PTS\n",
              "24344  Danuel House  SG  23.0  1.0  1.0  12.2  ...  0.0  0.0  0.0  0.0   NaN  0.0\n",
              "\n",
              "[1 rows x 19 columns]"
            ]
          },
          "metadata": {
            "tags": []
          },
          "execution_count": 11
        }
      ]
    },
    {
      "cell_type": "markdown",
      "metadata": {
        "id": "7EaBbraWlosP",
        "colab_type": "text"
      },
      "source": [
        "Quite remarkably, we now only have one player with missing data. Given the fact that Danuel House had barely any play time with no points, it's okay to drop him entirely from the dataset."
      ]
    },
    {
      "cell_type": "code",
      "metadata": {
        "id": "U-zqOSE1m-HQ",
        "colab_type": "code",
        "colab": {}
      },
      "source": [
        "df.drop([24344], inplace=True)"
      ],
      "execution_count": 0,
      "outputs": []
    },
    {
      "cell_type": "code",
      "metadata": {
        "id": "9kauRPM3nLhi",
        "colab_type": "code",
        "outputId": "5bd2ee9e-81a3-403e-bb52-b05761c9cf57",
        "colab": {
          "base_uri": "https://localhost:8080/",
          "height": 459
        }
      },
      "source": [
        "df.info()"
      ],
      "execution_count": 0,
      "outputs": [
        {
          "output_type": "stream",
          "text": [
            "<class 'pandas.core.frame.DataFrame'>\n",
            "Int64Index: 487 entries, 24096 to 24690\n",
            "Data columns (total 19 columns):\n",
            " #   Column  Non-Null Count  Dtype  \n",
            "---  ------  --------------  -----  \n",
            " 0   Player  487 non-null    object \n",
            " 1   Pos     487 non-null    object \n",
            " 2   Age     487 non-null    float64\n",
            " 3   G       487 non-null    float64\n",
            " 4   MP      487 non-null    float64\n",
            " 5   PER     487 non-null    float64\n",
            " 6   TS%     487 non-null    float64\n",
            " 7   TRB%    487 non-null    float64\n",
            " 8   STL%    487 non-null    float64\n",
            " 9   TOV%    487 non-null    float64\n",
            " 10  FGA     487 non-null    float64\n",
            " 11  3P      487 non-null    float64\n",
            " 12  3PA     487 non-null    float64\n",
            " 13  3P%     487 non-null    float64\n",
            " 14  2P      487 non-null    float64\n",
            " 15  2PA     487 non-null    float64\n",
            " 16  2P%     487 non-null    float64\n",
            " 17  eFG%    487 non-null    float64\n",
            " 18  PTS     487 non-null    float64\n",
            "dtypes: float64(17), object(2)\n",
            "memory usage: 76.1+ KB\n"
          ],
          "name": "stdout"
        }
      ]
    },
    {
      "cell_type": "markdown",
      "metadata": {
        "id": "TIz1CiIdpxZy",
        "colab_type": "text"
      },
      "source": [
        "## Train/Test Splitting"
      ]
    },
    {
      "cell_type": "markdown",
      "metadata": {
        "id": "CU-bnVONqTkQ",
        "colab_type": "text"
      },
      "source": [
        "We will be employing cross-validation in order to tune hyperparameters in our models, thus eliminating the need for a separate validation set.\n",
        "\n",
        "As is common practice, we will use 80% of our data for training and the final 20% for testiIn order to manually obtain train and test sets, we'll shuffle the rows by sampling radomply without replacement, then take the first 390 (60%) players to form out training set, and the remaining 97 will form the test set."
      ]
    },
    {
      "cell_type": "code",
      "metadata": {
        "id": "IKLSpzXip0oh",
        "colab_type": "code",
        "colab": {}
      },
      "source": [
        "shuffled = df.sample(frac=1, replace=False, random_state=1)\n",
        "train_df = shuffled.iloc[np.arange(390)]\n",
        "test_df = shuffled.iloc[np.arange(390, 487)]"
      ],
      "execution_count": 0,
      "outputs": []
    },
    {
      "cell_type": "code",
      "metadata": {
        "id": "d6qO1QKGsPAT",
        "colab_type": "code",
        "outputId": "3e6a459e-a6fe-4e04-d8f4-c34375b93ad1",
        "colab": {
          "base_uri": "https://localhost:8080/",
          "height": 275
        }
      },
      "source": [
        "train_df.head()"
      ],
      "execution_count": 0,
      "outputs": [
        {
          "output_type": "execute_result",
          "data": {
            "text/html": [
              "<div>\n",
              "<style scoped>\n",
              "    .dataframe tbody tr th:only-of-type {\n",
              "        vertical-align: middle;\n",
              "    }\n",
              "\n",
              "    .dataframe tbody tr th {\n",
              "        vertical-align: top;\n",
              "    }\n",
              "\n",
              "    .dataframe thead th {\n",
              "        text-align: right;\n",
              "    }\n",
              "</style>\n",
              "<table border=\"1\" class=\"dataframe\">\n",
              "  <thead>\n",
              "    <tr style=\"text-align: right;\">\n",
              "      <th></th>\n",
              "      <th>Player</th>\n",
              "      <th>Pos</th>\n",
              "      <th>Age</th>\n",
              "      <th>G</th>\n",
              "      <th>MP</th>\n",
              "      <th>PER</th>\n",
              "      <th>TS%</th>\n",
              "      <th>TRB%</th>\n",
              "      <th>STL%</th>\n",
              "      <th>TOV%</th>\n",
              "      <th>FGA</th>\n",
              "      <th>3P</th>\n",
              "      <th>3PA</th>\n",
              "      <th>3P%</th>\n",
              "      <th>2P</th>\n",
              "      <th>2PA</th>\n",
              "      <th>2P%</th>\n",
              "      <th>eFG%</th>\n",
              "      <th>PTS</th>\n",
              "    </tr>\n",
              "  </thead>\n",
              "  <tbody>\n",
              "    <tr>\n",
              "      <th>24275</th>\n",
              "      <td>Rudy Gay</td>\n",
              "      <td>SF</td>\n",
              "      <td>30.0</td>\n",
              "      <td>30.0</td>\n",
              "      <td>33.766667</td>\n",
              "      <td>17.9</td>\n",
              "      <td>0.559</td>\n",
              "      <td>10.8</td>\n",
              "      <td>2.2</td>\n",
              "      <td>12.8</td>\n",
              "      <td>14.733333</td>\n",
              "      <td>42.0</td>\n",
              "      <td>113.0</td>\n",
              "      <td>0.372</td>\n",
              "      <td>159.0</td>\n",
              "      <td>329.0</td>\n",
              "      <td>0.483</td>\n",
              "      <td>0.502</td>\n",
              "      <td>18.733333</td>\n",
              "    </tr>\n",
              "    <tr>\n",
              "      <th>24265</th>\n",
              "      <td>Randy Foye</td>\n",
              "      <td>SG</td>\n",
              "      <td>33.0</td>\n",
              "      <td>69.0</td>\n",
              "      <td>18.608696</td>\n",
              "      <td>7.3</td>\n",
              "      <td>0.506</td>\n",
              "      <td>6.4</td>\n",
              "      <td>1.3</td>\n",
              "      <td>18.5</td>\n",
              "      <td>4.710145</td>\n",
              "      <td>67.0</td>\n",
              "      <td>203.0</td>\n",
              "      <td>0.330</td>\n",
              "      <td>51.0</td>\n",
              "      <td>122.0</td>\n",
              "      <td>0.418</td>\n",
              "      <td>0.466</td>\n",
              "      <td>5.173913</td>\n",
              "    </tr>\n",
              "    <tr>\n",
              "      <th>24298</th>\n",
              "      <td>Draymond Green</td>\n",
              "      <td>PF</td>\n",
              "      <td>26.0</td>\n",
              "      <td>76.0</td>\n",
              "      <td>32.513158</td>\n",
              "      <td>16.5</td>\n",
              "      <td>0.522</td>\n",
              "      <td>13.3</td>\n",
              "      <td>3.0</td>\n",
              "      <td>19.8</td>\n",
              "      <td>8.552632</td>\n",
              "      <td>81.0</td>\n",
              "      <td>263.0</td>\n",
              "      <td>0.308</td>\n",
              "      <td>191.0</td>\n",
              "      <td>387.0</td>\n",
              "      <td>0.494</td>\n",
              "      <td>0.481</td>\n",
              "      <td>10.210526</td>\n",
              "    </tr>\n",
              "    <tr>\n",
              "      <th>24592</th>\n",
              "      <td>Tony Snell</td>\n",
              "      <td>SG</td>\n",
              "      <td>25.0</td>\n",
              "      <td>80.0</td>\n",
              "      <td>29.200000</td>\n",
              "      <td>9.7</td>\n",
              "      <td>0.603</td>\n",
              "      <td>6.2</td>\n",
              "      <td>1.2</td>\n",
              "      <td>8.8</td>\n",
              "      <td>6.762500</td>\n",
              "      <td>144.0</td>\n",
              "      <td>355.0</td>\n",
              "      <td>0.406</td>\n",
              "      <td>102.0</td>\n",
              "      <td>186.0</td>\n",
              "      <td>0.548</td>\n",
              "      <td>0.588</td>\n",
              "      <td>8.537500</td>\n",
              "    </tr>\n",
              "    <tr>\n",
              "      <th>24341</th>\n",
              "      <td>Richaun Holmes</td>\n",
              "      <td>C</td>\n",
              "      <td>23.0</td>\n",
              "      <td>57.0</td>\n",
              "      <td>20.929825</td>\n",
              "      <td>18.6</td>\n",
              "      <td>0.611</td>\n",
              "      <td>14.4</td>\n",
              "      <td>1.7</td>\n",
              "      <td>10.7</td>\n",
              "      <td>7.228070</td>\n",
              "      <td>27.0</td>\n",
              "      <td>77.0</td>\n",
              "      <td>0.351</td>\n",
              "      <td>203.0</td>\n",
              "      <td>335.0</td>\n",
              "      <td>0.606</td>\n",
              "      <td>0.591</td>\n",
              "      <td>9.807018</td>\n",
              "    </tr>\n",
              "  </tbody>\n",
              "</table>\n",
              "</div>"
            ],
            "text/plain": [
              "               Player Pos   Age     G  ...    2PA    2P%   eFG%        PTS\n",
              "24275        Rudy Gay  SF  30.0  30.0  ...  329.0  0.483  0.502  18.733333\n",
              "24265      Randy Foye  SG  33.0  69.0  ...  122.0  0.418  0.466   5.173913\n",
              "24298  Draymond Green  PF  26.0  76.0  ...  387.0  0.494  0.481  10.210526\n",
              "24592      Tony Snell  SG  25.0  80.0  ...  186.0  0.548  0.588   8.537500\n",
              "24341  Richaun Holmes   C  23.0  57.0  ...  335.0  0.606  0.591   9.807018\n",
              "\n",
              "[5 rows x 19 columns]"
            ]
          },
          "metadata": {
            "tags": []
          },
          "execution_count": 15
        }
      ]
    },
    {
      "cell_type": "code",
      "metadata": {
        "id": "3Z5VBNdqLPlK",
        "colab_type": "code",
        "outputId": "d68d442a-50fd-4908-f91d-f34fd65d3210",
        "colab": {
          "base_uri": "https://localhost:8080/",
          "height": 549
        }
      },
      "source": [
        "# Top ten players by PPG\n",
        "train_df.sort_values(by=['PTS'], ascending=False).head(10)"
      ],
      "execution_count": 0,
      "outputs": [
        {
          "output_type": "execute_result",
          "data": {
            "text/html": [
              "<div>\n",
              "<style scoped>\n",
              "    .dataframe tbody tr th:only-of-type {\n",
              "        vertical-align: middle;\n",
              "    }\n",
              "\n",
              "    .dataframe tbody tr th {\n",
              "        vertical-align: top;\n",
              "    }\n",
              "\n",
              "    .dataframe thead th {\n",
              "        text-align: right;\n",
              "    }\n",
              "</style>\n",
              "<table border=\"1\" class=\"dataframe\">\n",
              "  <thead>\n",
              "    <tr style=\"text-align: right;\">\n",
              "      <th></th>\n",
              "      <th>Player</th>\n",
              "      <th>Pos</th>\n",
              "      <th>Age</th>\n",
              "      <th>G</th>\n",
              "      <th>MP</th>\n",
              "      <th>PER</th>\n",
              "      <th>TS%</th>\n",
              "      <th>TRB%</th>\n",
              "      <th>STL%</th>\n",
              "      <th>TOV%</th>\n",
              "      <th>FGA</th>\n",
              "      <th>3P</th>\n",
              "      <th>3PA</th>\n",
              "      <th>3P%</th>\n",
              "      <th>2P</th>\n",
              "      <th>2PA</th>\n",
              "      <th>2P%</th>\n",
              "      <th>eFG%</th>\n",
              "      <th>PTS</th>\n",
              "    </tr>\n",
              "  </thead>\n",
              "  <tbody>\n",
              "    <tr>\n",
              "      <th>24654</th>\n",
              "      <td>Russell Westbrook</td>\n",
              "      <td>PG</td>\n",
              "      <td>28.0</td>\n",
              "      <td>81.0</td>\n",
              "      <td>34.592593</td>\n",
              "      <td>30.6</td>\n",
              "      <td>0.554</td>\n",
              "      <td>17.1</td>\n",
              "      <td>2.3</td>\n",
              "      <td>15.9</td>\n",
              "      <td>23.962963</td>\n",
              "      <td>200.0</td>\n",
              "      <td>583.0</td>\n",
              "      <td>0.343</td>\n",
              "      <td>624.0</td>\n",
              "      <td>1358.0</td>\n",
              "      <td>0.459</td>\n",
              "      <td>0.476</td>\n",
              "      <td>31.580247</td>\n",
              "    </tr>\n",
              "    <tr>\n",
              "      <th>24306</th>\n",
              "      <td>James Harden</td>\n",
              "      <td>PG</td>\n",
              "      <td>27.0</td>\n",
              "      <td>81.0</td>\n",
              "      <td>36.382716</td>\n",
              "      <td>27.3</td>\n",
              "      <td>0.613</td>\n",
              "      <td>12.2</td>\n",
              "      <td>2.0</td>\n",
              "      <td>19.5</td>\n",
              "      <td>18.925926</td>\n",
              "      <td>262.0</td>\n",
              "      <td>756.0</td>\n",
              "      <td>0.347</td>\n",
              "      <td>412.0</td>\n",
              "      <td>777.0</td>\n",
              "      <td>0.530</td>\n",
              "      <td>0.525</td>\n",
              "      <td>29.086420</td>\n",
              "    </tr>\n",
              "    <tr>\n",
              "      <th>24612</th>\n",
              "      <td>Isaiah Thomas</td>\n",
              "      <td>PG</td>\n",
              "      <td>27.0</td>\n",
              "      <td>76.0</td>\n",
              "      <td>33.802632</td>\n",
              "      <td>26.5</td>\n",
              "      <td>0.625</td>\n",
              "      <td>4.4</td>\n",
              "      <td>1.4</td>\n",
              "      <td>10.7</td>\n",
              "      <td>19.381579</td>\n",
              "      <td>245.0</td>\n",
              "      <td>646.0</td>\n",
              "      <td>0.379</td>\n",
              "      <td>437.0</td>\n",
              "      <td>827.0</td>\n",
              "      <td>0.528</td>\n",
              "      <td>0.546</td>\n",
              "      <td>28.934211</td>\n",
              "    </tr>\n",
              "    <tr>\n",
              "      <th>24218</th>\n",
              "      <td>Anthony Davis</td>\n",
              "      <td>C</td>\n",
              "      <td>23.0</td>\n",
              "      <td>75.0</td>\n",
              "      <td>36.106667</td>\n",
              "      <td>27.5</td>\n",
              "      <td>0.579</td>\n",
              "      <td>17.3</td>\n",
              "      <td>1.7</td>\n",
              "      <td>9.1</td>\n",
              "      <td>20.360000</td>\n",
              "      <td>40.0</td>\n",
              "      <td>134.0</td>\n",
              "      <td>0.299</td>\n",
              "      <td>730.0</td>\n",
              "      <td>1393.0</td>\n",
              "      <td>0.524</td>\n",
              "      <td>0.517</td>\n",
              "      <td>27.986667</td>\n",
              "    </tr>\n",
              "    <tr>\n",
              "      <th>24226</th>\n",
              "      <td>DeMar DeRozan</td>\n",
              "      <td>SG</td>\n",
              "      <td>27.0</td>\n",
              "      <td>74.0</td>\n",
              "      <td>35.405405</td>\n",
              "      <td>24.0</td>\n",
              "      <td>0.552</td>\n",
              "      <td>8.3</td>\n",
              "      <td>1.5</td>\n",
              "      <td>9.0</td>\n",
              "      <td>20.878378</td>\n",
              "      <td>33.0</td>\n",
              "      <td>124.0</td>\n",
              "      <td>0.266</td>\n",
              "      <td>688.0</td>\n",
              "      <td>1421.0</td>\n",
              "      <td>0.484</td>\n",
              "      <td>0.477</td>\n",
              "      <td>27.297297</td>\n",
              "    </tr>\n",
              "    <tr>\n",
              "      <th>24206</th>\n",
              "      <td>DeMarcus Cousins</td>\n",
              "      <td>C</td>\n",
              "      <td>26.0</td>\n",
              "      <td>72.0</td>\n",
              "      <td>34.236111</td>\n",
              "      <td>25.7</td>\n",
              "      <td>0.562</td>\n",
              "      <td>18.2</td>\n",
              "      <td>2.0</td>\n",
              "      <td>13.5</td>\n",
              "      <td>19.902778</td>\n",
              "      <td>131.0</td>\n",
              "      <td>364.0</td>\n",
              "      <td>0.360</td>\n",
              "      <td>516.0</td>\n",
              "      <td>1069.0</td>\n",
              "      <td>0.483</td>\n",
              "      <td>0.497</td>\n",
              "      <td>26.972222</td>\n",
              "    </tr>\n",
              "    <tr>\n",
              "      <th>24365</th>\n",
              "      <td>LeBron James</td>\n",
              "      <td>SF</td>\n",
              "      <td>32.0</td>\n",
              "      <td>74.0</td>\n",
              "      <td>37.756757</td>\n",
              "      <td>27.0</td>\n",
              "      <td>0.619</td>\n",
              "      <td>12.6</td>\n",
              "      <td>1.6</td>\n",
              "      <td>16.1</td>\n",
              "      <td>18.162162</td>\n",
              "      <td>124.0</td>\n",
              "      <td>342.0</td>\n",
              "      <td>0.363</td>\n",
              "      <td>612.0</td>\n",
              "      <td>1002.0</td>\n",
              "      <td>0.611</td>\n",
              "      <td>0.594</td>\n",
              "      <td>26.405405</td>\n",
              "    </tr>\n",
              "    <tr>\n",
              "      <th>24414</th>\n",
              "      <td>Kawhi Leonard</td>\n",
              "      <td>SF</td>\n",
              "      <td>25.0</td>\n",
              "      <td>74.0</td>\n",
              "      <td>33.432432</td>\n",
              "      <td>27.5</td>\n",
              "      <td>0.611</td>\n",
              "      <td>9.8</td>\n",
              "      <td>2.7</td>\n",
              "      <td>9.1</td>\n",
              "      <td>17.716216</td>\n",
              "      <td>147.0</td>\n",
              "      <td>386.0</td>\n",
              "      <td>0.381</td>\n",
              "      <td>489.0</td>\n",
              "      <td>925.0</td>\n",
              "      <td>0.529</td>\n",
              "      <td>0.541</td>\n",
              "      <td>25.513514</td>\n",
              "    </tr>\n",
              "    <tr>\n",
              "      <th>24216</th>\n",
              "      <td>Stephen Curry</td>\n",
              "      <td>PG</td>\n",
              "      <td>28.0</td>\n",
              "      <td>79.0</td>\n",
              "      <td>33.392405</td>\n",
              "      <td>24.6</td>\n",
              "      <td>0.624</td>\n",
              "      <td>7.3</td>\n",
              "      <td>2.6</td>\n",
              "      <td>13.0</td>\n",
              "      <td>18.265823</td>\n",
              "      <td>324.0</td>\n",
              "      <td>789.0</td>\n",
              "      <td>0.411</td>\n",
              "      <td>351.0</td>\n",
              "      <td>654.0</td>\n",
              "      <td>0.537</td>\n",
              "      <td>0.580</td>\n",
              "      <td>25.303797</td>\n",
              "    </tr>\n",
              "    <tr>\n",
              "      <th>24360</th>\n",
              "      <td>Kyrie Irving</td>\n",
              "      <td>PG</td>\n",
              "      <td>24.0</td>\n",
              "      <td>72.0</td>\n",
              "      <td>35.069444</td>\n",
              "      <td>23.0</td>\n",
              "      <td>0.580</td>\n",
              "      <td>5.0</td>\n",
              "      <td>1.6</td>\n",
              "      <td>10.3</td>\n",
              "      <td>19.722222</td>\n",
              "      <td>177.0</td>\n",
              "      <td>441.0</td>\n",
              "      <td>0.401</td>\n",
              "      <td>494.0</td>\n",
              "      <td>979.0</td>\n",
              "      <td>0.505</td>\n",
              "      <td>0.535</td>\n",
              "      <td>25.222222</td>\n",
              "    </tr>\n",
              "  </tbody>\n",
              "</table>\n",
              "</div>"
            ],
            "text/plain": [
              "                  Player Pos   Age     G  ...     2PA    2P%   eFG%        PTS\n",
              "24654  Russell Westbrook  PG  28.0  81.0  ...  1358.0  0.459  0.476  31.580247\n",
              "24306       James Harden  PG  27.0  81.0  ...   777.0  0.530  0.525  29.086420\n",
              "24612      Isaiah Thomas  PG  27.0  76.0  ...   827.0  0.528  0.546  28.934211\n",
              "24218      Anthony Davis   C  23.0  75.0  ...  1393.0  0.524  0.517  27.986667\n",
              "24226      DeMar DeRozan  SG  27.0  74.0  ...  1421.0  0.484  0.477  27.297297\n",
              "24206   DeMarcus Cousins   C  26.0  72.0  ...  1069.0  0.483  0.497  26.972222\n",
              "24365       LeBron James  SF  32.0  74.0  ...  1002.0  0.611  0.594  26.405405\n",
              "24414      Kawhi Leonard  SF  25.0  74.0  ...   925.0  0.529  0.541  25.513514\n",
              "24216      Stephen Curry  PG  28.0  79.0  ...   654.0  0.537  0.580  25.303797\n",
              "24360       Kyrie Irving  PG  24.0  72.0  ...   979.0  0.505  0.535  25.222222\n",
              "\n",
              "[10 rows x 19 columns]"
            ]
          },
          "metadata": {
            "tags": []
          },
          "execution_count": 16
        }
      ]
    },
    {
      "cell_type": "code",
      "metadata": {
        "id": "1cNRlaPSLZ3K",
        "colab_type": "code",
        "outputId": "41694eba-a183-499c-ab86-15e1ac2fab0c",
        "colab": {
          "base_uri": "https://localhost:8080/",
          "height": 301
        }
      },
      "source": [
        "# Distribution of points\n",
        "plt.hist(train_df['PTS'], bins=15)\n",
        "plt.title('Distribution of Points')\n",
        "plt.xlabel('PPG')\n",
        "plt.show()"
      ],
      "execution_count": 0,
      "outputs": [
        {
          "output_type": "display_data",
          "data": {
            "image/png": "[encoded data removed]",
            "text/plain": [
              "<Figure size 432x288 with 1 Axes>"
            ]
          },
          "metadata": {
            "tags": [],
            "needs_background": "light"
          }
        }
      ]
    },
    {
      "cell_type": "code",
      "metadata": {
        "id": "PCp6pWNIMpZ6",
        "colab_type": "code",
        "outputId": "283a16f2-2440-4156-a550-2ffe5f9865c0",
        "colab": {
          "base_uri": "https://localhost:8080/",
          "height": 301
        }
      },
      "source": [
        "# Comparing PPG for players over & under 30\n",
        "under_30 = train_df.loc[train_df.Age < 30].PTS\n",
        "over_30 = train_df.loc[train_df.Age >= 30].PTS\n",
        "\n",
        "plt.hist(x=under_30, alpha=0.35, label='Under 30')\n",
        "plt.hist(x=over_30, alpha=0.35, label='Over 30')\n",
        "plt.legend()\n",
        "plt.xlabel('PPG')\n",
        "plt.title('Points By Age')\n",
        "plt.show() "
      ],
      "execution_count": 0,
      "outputs": [
        {
          "output_type": "display_data",
          "data": {
            "image/png": "[encoded data removed]",
            "text/plain": [
              "<Figure size 432x288 with 1 Axes>"
            ]
          },
          "metadata": {
            "tags": [],
            "needs_background": "light"
          }
        }
      ]
    },
    {
      "cell_type": "markdown",
      "metadata": {
        "id": "zJesXJ8-Ruuf",
        "colab_type": "text"
      },
      "source": [
        "Since the PTS distribution for players under 30 and over 30 follow the same pattern there no need to examine them differently"
      ]
    },
    {
      "cell_type": "code",
      "metadata": {
        "id": "8r-58jE0OWC1",
        "colab_type": "code",
        "outputId": "2ffe3ccd-6a23-4c75-be57-fe719213a7f7",
        "colab": {
          "base_uri": "https://localhost:8080/",
          "height": 301
        }
      },
      "source": [
        "# Average points by position \n",
        "grouped_position = train_df[['Pos', 'PTS']].groupby(by=['Pos']).mean()\n",
        "\n",
        "plt.bar(grouped_position.index, height=grouped_position.PTS)\n",
        "plt.xlabel('Position')\n",
        "plt.ylabel('Avg. PPG')\n",
        "plt.title('Points By Position')\n",
        "plt.yticks(np.arange(0, 11))\n",
        "plt.show()"
      ],
      "execution_count": 0,
      "outputs": [
        {
          "output_type": "display_data",
          "data": {
            "image/png": "[encoded data removed]",
            "text/plain": [
              "<Figure size 432x288 with 1 Axes>"
            ]
          },
          "metadata": {
            "tags": [],
            "needs_background": "light"
          }
        }
      ]
    },
    {
      "cell_type": "code",
      "metadata": {
        "id": "It9MeHdydee3",
        "colab_type": "code",
        "outputId": "531b0244-6717-4662-c2bc-a7f6569c7634",
        "colab": {
          "base_uri": "https://localhost:8080/",
          "height": 1000
        }
      },
      "source": [
        "plt.figure(figsize=(20, 20))\n",
        "sns.heatmap(train_df.corr(), annot=True, center=0, cmap=\"RdBu\")\n",
        "plt.show()"
      ],
      "execution_count": 0,
      "outputs": [
        {
          "output_type": "display_data",
          "data": {
            "image/png": "[encoded data removed]",
            "text/plain": [
              "<Figure size 1440x1440 with 2 Axes>"
            ]
          },
          "metadata": {
            "tags": [],
            "needs_background": "light"
          }
        }
      ]
    },
    {
      "cell_type": "code",
      "metadata": {
        "id": "u7j80N53S-A9",
        "colab_type": "code",
        "outputId": "ba2e4008-6374-47b6-dc96-69976e1d666a",
        "colab": {
          "base_uri": "https://localhost:8080/",
          "height": 302
        }
      },
      "source": [
        "\n",
        "\n",
        "\n",
        "# scatter plots of points per game against minutes played per game\n",
        "plt.scatter(train_df[\"MP\"],train_df[\"PTS\"])\n",
        "plt.xlabel(\"Minutes played per game\")\n",
        "plt.ylabel(\"Points per game\")\n",
        "Linear_model = LinearRegression()\n",
        "Linear_model.fit(train_df[[\"MP\"]], train_df[[\"PTS\"]])\n",
        "mp_predict = Linear_model.predict(train_df[[\"MP\"]])\n",
        "plt.plot(train_df[\"MP\"], mp_predict, color=\"r\")\n",
        "print('R-squared:', Linear_model.score(train_df[[\"MP\"]], train_df[[\"PTS\"]])) # R-squared value"
      ],
      "execution_count": 0,
      "outputs": [
        {
          "output_type": "stream",
          "text": [
            "R-squared: 0.7667192657378216\n"
          ],
          "name": "stdout"
        },
        {
          "output_type": "display_data",
          "data": {
            "image/png": "[encoded data removed]",
            "text/plain": [
              "<Figure size 432x288 with 1 Axes>"
            ]
          },
          "metadata": {
            "tags": [],
            "needs_background": "light"
          }
        }
      ]
    },
    {
      "cell_type": "code",
      "metadata": {
        "id": "Nb0yHDNbf-DA",
        "colab_type": "code",
        "outputId": "d49951df-be01-4a75-9a72-42d8813cd24d",
        "colab": {
          "base_uri": "https://localhost:8080/",
          "height": 302
        }
      },
      "source": [
        "# scatter plots of points per game against PER\n",
        "plt.scatter(train_df[\"PER\"], train_df[\"PTS\"])\n",
        "plt.xlabel(\"PER\")\n",
        "plt.ylabel(\"Points per game\")\n",
        "Linear_model.fit(train_df[[\"PER\"]], train_df[[\"PTS\"]])\n",
        "per_predict = Linear_model.predict(train_df[[\"PER\"]])\n",
        "plt.plot(train_df[\"PER\"], per_predict, color=\"r\")\n",
        "print('R-squared:', Linear_model.score(train_df[[\"PER\"]], train_df[[\"PTS\"]])) # R-squared value"
      ],
      "execution_count": 0,
      "outputs": [
        {
          "output_type": "stream",
          "text": [
            "R-squared: 0.5179211452749585\n"
          ],
          "name": "stdout"
        },
        {
          "output_type": "display_data",
          "data": {
            "image/png": "[encoded data removed]",
            "text/plain": [
              "<Figure size 432x288 with 1 Axes>"
            ]
          },
          "metadata": {
            "tags": [],
            "needs_background": "light"
          }
        }
      ]
    },
    {
      "cell_type": "code",
      "metadata": {
        "id": "ibzDay3Y7xj9",
        "colab_type": "code",
        "outputId": "fdc2bd01-0544-4923-8a82-1b911513ecb7",
        "colab": {
          "base_uri": "https://localhost:8080/",
          "height": 302
        }
      },
      "source": [
        "\n",
        "# scatter plots of points per game against TS%\n",
        "plt.scatter(train_df[\"TS%\"], train_df[\"PTS\"])\n",
        "plt.xlabel(\"TS%\")\n",
        "plt.ylabel(\"Points per game\")\n",
        "Linear_model.fit(train_df[[\"TS%\"]], train_df[[\"PTS\"]])\n",
        "ts_predict = Linear_model.predict(train_df[[\"TS%\"]])\n",
        "plt.plot(train_df[\"TS%\"], ts_predict, color=\"r\")\n",
        "print('R-squared:', Linear_model.score(train_df[[\"TS%\"]], train_df[[\"PTS\"]])) # R-squared value"
      ],
      "execution_count": 0,
      "outputs": [
        {
          "output_type": "stream",
          "text": [
            "R-squared: 0.15565307811049378\n"
          ],
          "name": "stdout"
        },
        {
          "output_type": "display_data",
          "data": {
            "image/png": "[encoded data removed]",
            "text/plain": [
              "<Figure size 432x288 with 1 Axes>"
            ]
          },
          "metadata": {
            "tags": [],
            "needs_background": "light"
          }
        }
      ]
    },
    {
      "cell_type": "code",
      "metadata": {
        "id": "OzaGrGDy9POM",
        "colab_type": "code",
        "outputId": "02aeafe9-ebb7-4256-c17e-f0e1bb66ee15",
        "colab": {
          "base_uri": "https://localhost:8080/",
          "height": 302
        }
      },
      "source": [
        "# scatter plots of points per game against TRB%\n",
        "plt.scatter(train_df[\"TRB%\"], train_df[\"PTS\"])\n",
        "plt.xlabel(\"TRB%\")\n",
        "plt.ylabel(\"Points per game\")\n",
        "Linear_model.fit(train_df[[\"TRB%\"]], train_df[[\"PTS\"]])\n",
        "trb_predict = Linear_model.predict(train_df[[\"TRB%\"]])\n",
        "plt.plot(train_df[\"TRB%\"], trb_predict, color=\"r\")\n",
        "print('R-squared:', Linear_model.score(train_df[[\"TRB%\"]], train_df[[\"PTS\"]])) # R-squared value"
      ],
      "execution_count": 0,
      "outputs": [
        {
          "output_type": "stream",
          "text": [
            "R-squared: 0.0005915311575651616\n"
          ],
          "name": "stdout"
        },
        {
          "output_type": "display_data",
          "data": {
            "image/png": "[encoded data removed]",
            "text/plain": [
              "<Figure size 432x288 with 1 Axes>"
            ]
          },
          "metadata": {
            "tags": [],
            "needs_background": "light"
          }
        }
      ]
    },
    {
      "cell_type": "code",
      "metadata": {
        "id": "MogPGYip9Zr3",
        "colab_type": "code",
        "outputId": "34d0785e-5969-4bd6-8ef2-802289a26eb5",
        "colab": {
          "base_uri": "https://localhost:8080/",
          "height": 302
        }
      },
      "source": [
        "# scatter plots of points per game against STL%\n",
        "plt.scatter(train_df[\"STL%\"], train_df[\"PTS\"])\n",
        "plt.xlabel(\"STL%\")\n",
        "plt.ylabel(\"Points per game\")\n",
        "Linear_model.fit(train_df[[\"STL%\"]], train_df[[\"PTS\"]])\n",
        "stl_predict = Linear_model.predict(train_df[[\"STL%\"]])\n",
        "plt.plot(train_df[\"STL%\"], stl_predict, color=\"r\")\n",
        "print('R-squared:', Linear_model.score(train_df[[\"STL%\"]], train_df[[\"PTS\"]])) # R-squared value"
      ],
      "execution_count": 0,
      "outputs": [
        {
          "output_type": "stream",
          "text": [
            "R-squared: 0.004062778429081426\n"
          ],
          "name": "stdout"
        },
        {
          "output_type": "display_data",
          "data": {
            "image/png": "[encoded data removed]",
            "text/plain": [
              "<Figure size 432x288 with 1 Axes>"
            ]
          },
          "metadata": {
            "tags": [],
            "needs_background": "light"
          }
        }
      ]
    },
    {
      "cell_type": "code",
      "metadata": {
        "id": "hvmNkiPk-fqF",
        "colab_type": "code",
        "outputId": "50e13abf-bed8-4c57-c824-d15622a4b26e",
        "colab": {
          "base_uri": "https://localhost:8080/",
          "height": 302
        }
      },
      "source": [
        "# scatter plots of points per game against TOV%\n",
        "plt.scatter(train_df[\"TOV%\"], train_df[\"PTS\"])\n",
        "plt.xlabel(\"TOV%\")\n",
        "plt.ylabel(\"Points per game\")\n",
        "Linear_model.fit(train_df[[\"TOV%\"]], train_df[[\"PTS\"]])\n",
        "tov_predict = Linear_model.predict(train_df[[\"TOV%\"]])\n",
        "plt.plot(train_df[\"TOV%\"], tov_predict, color=\"r\")\n",
        "print('R-squared:', Linear_model.score(train_df[[\"TOV%\"]], train_df[[\"PTS\"]])) # R-squared value"
      ],
      "execution_count": 0,
      "outputs": [
        {
          "output_type": "stream",
          "text": [
            "R-squared: 0.015061990476007536\n"
          ],
          "name": "stdout"
        },
        {
          "output_type": "display_data",
          "data": {
            "image/png": "[encoded data removed]",
            "text/plain": [
              "<Figure size 432x288 with 1 Axes>"
            ]
          },
          "metadata": {
            "tags": [],
            "needs_background": "light"
          }
        }
      ]
    },
    {
      "cell_type": "code",
      "metadata": {
        "id": "8c42R8k-_E7k",
        "colab_type": "code",
        "outputId": "e09ad859-46c7-498f-8957-30a5ac73a31b",
        "colab": {
          "base_uri": "https://localhost:8080/",
          "height": 302
        }
      },
      "source": [
        "\n",
        "# scatter plots of points per game against FGA\n",
        "plt.scatter(train_df[\"FGA\"], train_df[\"PTS\"])\n",
        "plt.xlabel(\"FGA\")\n",
        "plt.ylabel(\"Points per game\")\n",
        "Linear_model.fit(train_df[[\"FGA\"]], train_df[[\"PTS\"]])\n",
        "fga_predict = Linear_model.predict(train_df[[\"FGA\"]])\n",
        "plt.plot(train_df[\"FGA\"], fga_predict, color=\"r\")\n",
        "print('R-squared:', Linear_model.score(train_df[[\"FGA\"]], train_df[[\"PTS\"]])) # R-squared value"
      ],
      "execution_count": 0,
      "outputs": [
        {
          "output_type": "stream",
          "text": [
            "R-squared: 0.9706213056177363\n"
          ],
          "name": "stdout"
        },
        {
          "output_type": "display_data",
          "data": {
            "image/png": "[encoded data removed]",
            "text/plain": [
              "<Figure size 432x288 with 1 Axes>"
            ]
          },
          "metadata": {
            "tags": [],
            "needs_background": "light"
          }
        }
      ]
    },
    {
      "cell_type": "code",
      "metadata": {
        "id": "c_M88FPP_R8q",
        "colab_type": "code",
        "outputId": "0f8a9e61-30a9-4d8c-ffcf-204ac50715f7",
        "colab": {
          "base_uri": "https://localhost:8080/",
          "height": 302
        }
      },
      "source": [
        "# scatter plots of points per game against 3P%\n",
        "plt.scatter(train_df[\"3P%\"], train_df[\"PTS\"])\n",
        "plt.xlabel(\"3P%\")\n",
        "plt.ylabel(\"Points per game\")\n",
        "Linear_model.fit(train_df[[\"3P%\"]], train_df[[\"PTS\"]])\n",
        "threep_predict = Linear_model.predict(train_df[[\"3P%\"]])\n",
        "plt.plot(train_df[\"3P%\"], threep_predict, color=\"r\")\n",
        "print('R-squared:', Linear_model.score(train_df[[\"3P%\"]], train_df[[\"PTS\"]])) # R-squared value"
      ],
      "execution_count": 0,
      "outputs": [
        {
          "output_type": "stream",
          "text": [
            "R-squared: 0.11897836939624407\n"
          ],
          "name": "stdout"
        },
        {
          "output_type": "display_data",
          "data": {
            "image/png": "[encoded data removed]",
            "text/plain": [
              "<Figure size 432x288 with 1 Axes>"
            ]
          },
          "metadata": {
            "tags": [],
            "needs_background": "light"
          }
        }
      ]
    },
    {
      "cell_type": "code",
      "metadata": {
        "id": "-cszgA2e_bIe",
        "colab_type": "code",
        "outputId": "e7887d55-3813-4ec6-dbd3-1ce9b2ac8208",
        "colab": {
          "base_uri": "https://localhost:8080/",
          "height": 302
        }
      },
      "source": [
        "# scatter plots of points per game against 2P%\n",
        "plt.scatter(train_df[\"2P%\"], train_df[\"PTS\"])\n",
        "plt.xlabel(\"2P%\")\n",
        "plt.ylabel(\"Points per game\")\n",
        "Linear_model.fit(train_df[[\"2P%\"]], train_df[[\"PTS\"]])\n",
        "twop_predict = Linear_model.predict(train_df[[\"2P%\"]])\n",
        "plt.plot(train_df[\"2P%\"], twop_predict, color=\"r\")\n",
        "print('R-squared:', Linear_model.score(train_df[[\"2P%\"]], train_df[[\"PTS\"]])) # R-squared value"
      ],
      "execution_count": 0,
      "outputs": [
        {
          "output_type": "stream",
          "text": [
            "R-squared: 0.038932805457997044\n"
          ],
          "name": "stdout"
        },
        {
          "output_type": "display_data",
          "data": {
            "image/png": "[encoded data removed]",
            "text/plain": [
              "<Figure size 432x288 with 1 Axes>"
            ]
          },
          "metadata": {
            "tags": [],
            "needs_background": "light"
          }
        }
      ]
    },
    {
      "cell_type": "code",
      "metadata": {
        "id": "997LiJaG_ixG",
        "colab_type": "code",
        "outputId": "c4c814a1-d4c1-480b-f19f-c29f606615ec",
        "colab": {
          "base_uri": "https://localhost:8080/",
          "height": 302
        }
      },
      "source": [
        "# scatter plots of points per game against eFG%\n",
        "plt.scatter(train_df[\"eFG%\"], train_df[\"PTS\"])\n",
        "plt.xlabel(\"eFG%\")\n",
        "plt.ylabel(\"Points per game\")\n",
        "Linear_model.fit(train_df[[\"eFG%\"]], train_df[[\"PTS\"]])\n",
        "efg_predict = Linear_model.predict(train_df[[\"eFG%\"]])\n",
        "plt.plot(train_df[\"eFG%\"], efg_predict, color=\"r\")\n",
        "print('R-squared:', Linear_model.score(train_df[[\"eFG%\"]], train_df[[\"PTS\"]])) # R-squared value"
      ],
      "execution_count": 0,
      "outputs": [
        {
          "output_type": "stream",
          "text": [
            "R-squared: 0.08354007281772402\n"
          ],
          "name": "stdout"
        },
        {
          "output_type": "display_data",
          "data": {
            "image/png": "[encoded data removed]",
            "text/plain": [
              "<Figure size 432x288 with 1 Axes>"
            ]
          },
          "metadata": {
            "tags": [],
            "needs_background": "light"
          }
        }
      ]
    },
    {
      "cell_type": "code",
      "metadata": {
        "id": "l5zl1VxyTzWb",
        "colab_type": "code",
        "outputId": "3a87c555-593d-436e-9325-20e71b39bcee",
        "colab": {
          "base_uri": "https://localhost:8080/",
          "height": 302
        }
      },
      "source": [
        "# scatter plots of points per game against 3PA\n",
        "plt.scatter(train_df[\"3PA\"], train_df[\"PTS\"])\n",
        "plt.xlabel(\"3PA\")\n",
        "plt.ylabel(\"Points per game\")\n",
        "Linear_model.fit(train_df[[\"3PA\"]], train_df[[\"PTS\"]])\n",
        "TPA_predict = Linear_model.predict(train_df[[\"3PA\"]])\n",
        "plt.plot(train_df[\"3PA\"], TPA_predict, color=\"r\")\n",
        "print('R-squared:', Linear_model.score(train_df[[\"3PA\"]], train_df[[\"PTS\"]])) # R-squared value"
      ],
      "execution_count": 0,
      "outputs": [
        {
          "output_type": "stream",
          "text": [
            "R-squared: 0.5042844231517125\n"
          ],
          "name": "stdout"
        },
        {
          "output_type": "display_data",
          "data": {
            "image/png": "[encoded data removed]",
            "text/plain": [
              "<Figure size 432x288 with 1 Axes>"
            ]
          },
          "metadata": {
            "tags": [],
            "needs_background": "light"
          }
        }
      ]
    },
    {
      "cell_type": "code",
      "metadata": {
        "id": "x7i0x_WCUO6w",
        "colab_type": "code",
        "outputId": "b16e3212-9ad1-45ea-f782-2ec2f3b45cbc",
        "colab": {
          "base_uri": "https://localhost:8080/",
          "height": 302
        }
      },
      "source": [
        "# scatter plots of points per game against 2PA\n",
        "plt.scatter(train_df[\"2PA\"], train_df[\"PTS\"])\n",
        "plt.xlabel(\"2PA\")\n",
        "plt.ylabel(\"Points per game\")\n",
        "Linear_model.fit(train_df[[\"2PA\"]], train_df[[\"PTS\"]])\n",
        "TWPA_predict = Linear_model.predict(train_df[[\"2PA\"]])\n",
        "plt.plot(train_df[\"2PA\"], TWPA_predict, color=\"r\")\n",
        "print('R-squared:', Linear_model.score(train_df[[\"2PA\"]], train_df[[\"PTS\"]]))"
      ],
      "execution_count": 0,
      "outputs": [
        {
          "output_type": "stream",
          "text": [
            "R-squared: 0.8020962690292562\n"
          ],
          "name": "stdout"
        },
        {
          "output_type": "display_data",
          "data": {
            "image/png": "[encoded data removed]",
            "text/plain": [
              "<Figure size 432x288 with 1 Axes>"
            ]
          },
          "metadata": {
            "tags": [],
            "needs_background": "light"
          }
        }
      ]
    },
    {
      "cell_type": "code",
      "metadata": {
        "id": "BuXXtq7yW5Es",
        "colab_type": "code",
        "outputId": "fb01eb33-ab34-43f6-80ce-8538c2d48822",
        "colab": {
          "base_uri": "https://localhost:8080/",
          "height": 319
        }
      },
      "source": [
        "# scatter plots of 2PA against 3PA\n",
        "plt.scatter(train_df[\"2PA\"], train_df[\"3PA\"])\n",
        "plt.xlabel(\"2PA\")\n",
        "plt.ylabel(\"3PA\")\n",
        "Linear_model.fit(train_df[[\"2PA\"]], train_df[[\"3PA\"]])\n",
        "TWTPA_predict = Linear_model.predict(train_df[[\"2PA\"]])\n",
        "plt.plot(train_df[\"2PA\"], TWTPA_predict, color=\"r\")\n",
        "print('R-squared:', Linear_model.score(train_df[[\"2PA\"]], train_df[[\"3PA\"]]))\n",
        "print(\"VIF value:\", 1/(1-Linear_model.score(train_df[[\"2PA\"]], train_df[[\"3PA\"]]))) #check for collinearity of the variables since it's smaller than 4 there is no problem "
      ],
      "execution_count": 0,
      "outputs": [
        {
          "output_type": "stream",
          "text": [
            "R-squared: 0.2699819418100212\n",
            "VIF value: 1.369829127897767\n"
          ],
          "name": "stdout"
        },
        {
          "output_type": "display_data",
          "data": {
            "image/png": "[encoded data removed]",
            "text/plain": [
              "<Figure size 432x288 with 1 Axes>"
            ]
          },
          "metadata": {
            "tags": [],
            "needs_background": "light"
          }
        }
      ]
    },
    {
      "cell_type": "code",
      "metadata": {
        "id": "0eX44kDjX636",
        "colab_type": "code",
        "outputId": "c59799e9-67ba-4624-c05e-b905cd118e43",
        "colab": {
          "base_uri": "https://localhost:8080/",
          "height": 322
        }
      },
      "source": [
        "# scatter plots of 2PA against FGA\n",
        "plt.scatter(train_df[\"2PA\"], train_df[\"FGA\"])\n",
        "plt.xlabel(\"2PA\")\n",
        "plt.ylabel(\"FGA\")\n",
        "Linear_model.fit(train_df[[\"2PA\"]], train_df[[\"FGA\"]])\n",
        "TWFPA_predict = Linear_model.predict(train_df[[\"2PA\"]])\n",
        "plt.plot(train_df[\"2PA\"], TWFPA_predict, color=\"r\")\n",
        "print('R-squared:', Linear_model.score(train_df[[\"2PA\"]], train_df[[\"FGA\"]]))\n",
        "print(\"VIF value:\", 1/(1-Linear_model.score(train_df[[\"2PA\"]], train_df[[\"FGA\"]]))) #check for collinearity of the variables since it's bigger than 4 there is a problem "
      ],
      "execution_count": 0,
      "outputs": [
        {
          "output_type": "stream",
          "text": [
            "R-squared: 0.7959510797304998\n",
            "VIF value: 4.900785550245684\n"
          ],
          "name": "stdout"
        },
        {
          "output_type": "display_data",
          "data": {
            "image/png": "[encoded data removed]",
            "text/plain": [
              "<Figure size 432x288 with 1 Axes>"
            ]
          },
          "metadata": {
            "tags": [],
            "needs_background": "light"
          }
        }
      ]
    },
    {
      "cell_type": "code",
      "metadata": {
        "id": "ivrR-ay5ZmXE",
        "colab_type": "code",
        "outputId": "9cf794ab-0a44-485c-833b-7ee33b556232",
        "colab": {
          "base_uri": "https://localhost:8080/",
          "height": 322
        }
      },
      "source": [
        "# scatter plots of 2PA against FGA\n",
        "plt.scatter(train_df[\"3PA\"], train_df[\"FGA\"])\n",
        "plt.xlabel(\"3PA\")\n",
        "plt.ylabel(\"FGA\")\n",
        "Linear_model.fit(train_df[[\"3PA\"]], train_df[[\"FGA\"]])\n",
        "TWFPA_predict = Linear_model.predict(train_df[[\"3PA\"]])\n",
        "plt.plot(train_df[\"3PA\"], TWFPA_predict, color=\"r\")\n",
        "print('R-squared:', Linear_model.score(train_df[[\"3PA\"]], train_df[[\"FGA\"]]))\n",
        "print(\"VIF value:\", 1/(1-Linear_model.score(train_df[[\"3PA\"]], train_df[[\"FGA\"]]))) #check for collinearity of the variables since it's smaller than 4 there is no problem "
      ],
      "execution_count": 0,
      "outputs": [
        {
          "output_type": "stream",
          "text": [
            "R-squared: 0.5172743482913011\n",
            "VIF value: 2.071570044931962\n"
          ],
          "name": "stdout"
        },
        {
          "output_type": "display_data",
          "data": {
            "image/png": "[encoded data removed]",
            "text/plain": [
              "<Figure size 432x288 with 1 Axes>"
            ]
          },
          "metadata": {
            "tags": [],
            "needs_background": "light"
          }
        }
      ]
    },
    {
      "cell_type": "markdown",
      "metadata": {
        "id": "MU6oH0s_bIb7",
        "colab_type": "text"
      },
      "source": [
        "In a lienar model with multiple variables, when two features are strongly linearly correlated then there is the problem of collinearity which states that when some of the features are strongly linearly correlated, then one of them tend to either provide useless/repetitive information or simply just cause some error/bias. In this case, when we examine the variables 2PA and FGA, they are highly linearly correlated and with a VIF value of over 4. Hence, we conclude that they are strongly linearly correlated and may cause the problem of linear collinearity if we include both variables in the model. After deleting 2PA from our model it turns out that not only the MSE value decreases, but also the r-squared value increases."
      ]
    },
    {
      "cell_type": "markdown",
      "metadata": {
        "id": "-Sv4OmQEPOcz",
        "colab_type": "text"
      },
      "source": [
        "## Machine Learning Models"
      ]
    },
    {
      "cell_type": "markdown",
      "metadata": {
        "id": "ry0KoNPbPSug",
        "colab_type": "text"
      },
      "source": [
        "Now that we have done our initial analyses, we can choose features to use in the model. We will make a fair amount of models using different algorithms and compare them to see which is best.\n",
        "\n",
        "From our exploratory analyses and visualizations, it appears that some of our features are more important than others. To avoid overfitting and make our model as efficient as possible, we will use the following features in our final model:\n",
        "* MP: minutes played\n",
        "* PER: player efficiency rating\n",
        "* FGA: field goal attempts\n",
        "* 3PA: 3-point attempts"
      ]
    },
    {
      "cell_type": "code",
      "metadata": {
        "id": "uQB_qNSgPJvu",
        "colab_type": "code",
        "colab": {}
      },
      "source": [
        "x_train = train_df[['MP','FGA', 'PER','3PA']]\n",
        "y_train = train_df[['PTS']]\n",
        "\n",
        "x_test = test_df[['MP', 'FGA', 'PER', '3PA']]\n",
        "y_test = test_df[['PTS']]"
      ],
      "execution_count": 0,
      "outputs": []
    },
    {
      "cell_type": "code",
      "metadata": {
        "id": "JN9N_TMqA3Uf",
        "colab_type": "code",
        "colab": {}
      },
      "source": [
        "#cost function for multiple variable linear regression\n",
        "def costFunction(X,y, theta):\n",
        "  m=len(y)\n",
        "  J=0\n",
        "  J=(1/2*m)*multiply((np.transpose(multiply(theta, X)-y)), multiply(theta, X)-y)\n",
        "  return J"
      ],
      "execution_count": 0,
      "outputs": []
    },
    {
      "cell_type": "markdown",
      "metadata": {
        "id": "p0KyHYguPYod",
        "colab_type": "text"
      },
      "source": [
        "### Linear Regression"
      ]
    },
    {
      "cell_type": "code",
      "metadata": {
        "id": "0RLJokqVPKNk",
        "colab_type": "code",
        "outputId": "35b252b8-7be6-4b8f-fc2a-91877925664e",
        "colab": {
          "base_uri": "https://localhost:8080/",
          "height": 269
        }
      },
      "source": [
        "# Fit linear regression model\n",
        "lin_reg = LinearRegression()\n",
        "lin_reg.fit(x_train, y_train)\n",
        "\n",
        "# Predict\n",
        "lin_y_pred = lin_reg.predict(x_test)\n",
        "\n",
        "# MSE\n",
        "lr_mse = MSE(y_test, lin_y_pred)\n",
        "print('MSE:', lr_mse)\n",
        "\n",
        "# r-squared value\n",
        "lr_rsquared = r2_score(y_test, lin_y_pred)\n",
        "print('R^2:', lr_rsquared)\n",
        "\n",
        "# Display results\n",
        "lr_df = pd.DataFrame({'Actual': np.array(y_test['PTS']), 'Predicted': lin_y_pred.flatten()}, \n",
        "                     index=test_df['Player'])\n",
        "\n",
        "lr_df.round(1).head()\n",
        "\n"
      ],
      "execution_count": 0,
      "outputs": [
        {
          "output_type": "stream",
          "text": [
            "MSE: 1.0084119370903002\n",
            "R^2: 0.9598072092497385\n"
          ],
          "name": "stdout"
        },
        {
          "output_type": "execute_result",
          "data": {
            "text/html": [
              "<div>\n",
              "<style scoped>\n",
              "    .dataframe tbody tr th:only-of-type {\n",
              "        vertical-align: middle;\n",
              "    }\n",
              "\n",
              "    .dataframe tbody tr th {\n",
              "        vertical-align: top;\n",
              "    }\n",
              "\n",
              "    .dataframe thead th {\n",
              "        text-align: right;\n",
              "    }\n",
              "</style>\n",
              "<table border=\"1\" class=\"dataframe\">\n",
              "  <thead>\n",
              "    <tr style=\"text-align: right;\">\n",
              "      <th></th>\n",
              "      <th>Actual</th>\n",
              "      <th>Predicted</th>\n",
              "    </tr>\n",
              "    <tr>\n",
              "      <th>Player</th>\n",
              "      <th></th>\n",
              "      <th></th>\n",
              "    </tr>\n",
              "  </thead>\n",
              "  <tbody>\n",
              "    <tr>\n",
              "      <th>Lamar Patterson</th>\n",
              "      <td>1.8</td>\n",
              "      <td>1.3</td>\n",
              "    </tr>\n",
              "    <tr>\n",
              "      <th>Ryan Kelly</th>\n",
              "      <td>1.6</td>\n",
              "      <td>1.4</td>\n",
              "    </tr>\n",
              "    <tr>\n",
              "      <th>Troy Williams</th>\n",
              "      <td>6.2</td>\n",
              "      <td>6.1</td>\n",
              "    </tr>\n",
              "    <tr>\n",
              "      <th>Mike Conley</th>\n",
              "      <td>20.5</td>\n",
              "      <td>19.5</td>\n",
              "    </tr>\n",
              "    <tr>\n",
              "      <th>DeAndre Jordan</th>\n",
              "      <td>12.7</td>\n",
              "      <td>9.9</td>\n",
              "    </tr>\n",
              "  </tbody>\n",
              "</table>\n",
              "</div>"
            ],
            "text/plain": [
              "                 Actual  Predicted\n",
              "Player                            \n",
              "Lamar Patterson     1.8        1.3\n",
              "Ryan Kelly          1.6        1.4\n",
              "Troy Williams       6.2        6.1\n",
              "Mike Conley        20.5       19.5\n",
              "DeAndre Jordan     12.7        9.9"
            ]
          },
          "metadata": {
            "tags": []
          },
          "execution_count": 48
        }
      ]
    },
    {
      "cell_type": "markdown",
      "metadata": {
        "id": "W9FQT_2q9fxI",
        "colab_type": "text"
      },
      "source": [
        "### Ridge Regression"
      ]
    },
    {
      "cell_type": "code",
      "metadata": {
        "id": "Nsks6V1xMZ_E",
        "colab_type": "code",
        "outputId": "3be85fae-4f17-405d-d470-639dc8ed2592",
        "colab": {
          "base_uri": "https://localhost:8080/",
          "height": 269
        }
      },
      "source": [
        "# Ridge regression is least squares with l2 regularization.\n",
        "\n",
        "# Fit ridge regression model\n",
        "ridge = Ridge()\n",
        "ridge.fit(x_train, y_train)\n",
        "\n",
        "# Predict\n",
        "ridge_predict = ridge.predict(x_test)\n",
        "\n",
        "# MSE\n",
        "ridge_mse = MSE(y_test, ridge_predict)\n",
        "print('MSE:', ridge_mse)\n",
        "\n",
        "# r squared value\n",
        "ridge_rsquared = r2_score(y_test, ridge_predict)\n",
        "print('R^2:', ridge_rsquared)\n",
        "\n",
        "# Display results\n",
        "lr1_df=pd.DataFrame({\"Actual\": np.array(y_test[\"PTS\"]), \"Predicted\": ridge_predict.flatten()}, index=test_df['Player'])\n",
        "\n",
        "lr1_df.round(1).head()\n"
      ],
      "execution_count": 0,
      "outputs": [
        {
          "output_type": "stream",
          "text": [
            "MSE: 1.0078252865871993\n",
            "R^2: 0.9598305916791281\n"
          ],
          "name": "stdout"
        },
        {
          "output_type": "execute_result",
          "data": {
            "text/html": [
              "<div>\n",
              "<style scoped>\n",
              "    .dataframe tbody tr th:only-of-type {\n",
              "        vertical-align: middle;\n",
              "    }\n",
              "\n",
              "    .dataframe tbody tr th {\n",
              "        vertical-align: top;\n",
              "    }\n",
              "\n",
              "    .dataframe thead th {\n",
              "        text-align: right;\n",
              "    }\n",
              "</style>\n",
              "<table border=\"1\" class=\"dataframe\">\n",
              "  <thead>\n",
              "    <tr style=\"text-align: right;\">\n",
              "      <th></th>\n",
              "      <th>Actual</th>\n",
              "      <th>Predicted</th>\n",
              "    </tr>\n",
              "    <tr>\n",
              "      <th>Player</th>\n",
              "      <th></th>\n",
              "      <th></th>\n",
              "    </tr>\n",
              "  </thead>\n",
              "  <tbody>\n",
              "    <tr>\n",
              "      <th>Lamar Patterson</th>\n",
              "      <td>1.8</td>\n",
              "      <td>1.3</td>\n",
              "    </tr>\n",
              "    <tr>\n",
              "      <th>Ryan Kelly</th>\n",
              "      <td>1.6</td>\n",
              "      <td>1.4</td>\n",
              "    </tr>\n",
              "    <tr>\n",
              "      <th>Troy Williams</th>\n",
              "      <td>6.2</td>\n",
              "      <td>6.1</td>\n",
              "    </tr>\n",
              "    <tr>\n",
              "      <th>Mike Conley</th>\n",
              "      <td>20.5</td>\n",
              "      <td>19.5</td>\n",
              "    </tr>\n",
              "    <tr>\n",
              "      <th>DeAndre Jordan</th>\n",
              "      <td>12.7</td>\n",
              "      <td>9.9</td>\n",
              "    </tr>\n",
              "  </tbody>\n",
              "</table>\n",
              "</div>"
            ],
            "text/plain": [
              "                 Actual  Predicted\n",
              "Player                            \n",
              "Lamar Patterson     1.8        1.3\n",
              "Ryan Kelly          1.6        1.4\n",
              "Troy Williams       6.2        6.1\n",
              "Mike Conley        20.5       19.5\n",
              "DeAndre Jordan     12.7        9.9"
            ]
          },
          "metadata": {
            "tags": []
          },
          "execution_count": 49
        }
      ]
    },
    {
      "cell_type": "markdown",
      "metadata": {
        "id": "z4qUoYFVPf8b",
        "colab_type": "text"
      },
      "source": [
        "### Decision Tree Regression"
      ]
    },
    {
      "cell_type": "code",
      "metadata": {
        "id": "JtAS0IBkPKcK",
        "colab_type": "code",
        "outputId": "79ae459c-6738-4cce-e2c0-1edbfd773687",
        "colab": {
          "base_uri": "https://localhost:8080/",
          "height": 51
        }
      },
      "source": [
        "# Fit decision tree regression model\n",
        "dt_reg = DecisionTreeRegressor(max_depth=5)\n",
        "dt_reg.fit(x_train, y_train)\n",
        "\n",
        "# Predict\n",
        "dt_y_pred = dt_reg.predict(x_test)\n",
        "\n",
        "# MSE\n",
        "dt_mse = MSE(y_test, dt_y_pred)\n",
        "print('MSE:', dt_mse)\n",
        "\n",
        "# r-squared value\n",
        "dt_rsquared = r2_score(y_test, dt_y_pred)\n",
        "print('R^2:', dt_rsquared)"
      ],
      "execution_count": 0,
      "outputs": [
        {
          "output_type": "stream",
          "text": [
            "MSE: 1.723269812990595\n",
            "R^2: 0.9313147529772141\n"
          ],
          "name": "stdout"
        }
      ]
    },
    {
      "cell_type": "code",
      "metadata": {
        "id": "hTuBRk6zWho9",
        "colab_type": "code",
        "outputId": "b4d521fa-114e-4e72-816a-5f6687b7bb83",
        "colab": {
          "base_uri": "https://localhost:8080/",
          "height": 235
        }
      },
      "source": [
        "# Display results\n",
        "dt_df = pd.DataFrame({'Actual': np.array(y_test['PTS']), 'Predicted': dt_y_pred.flatten()}, \n",
        "                     index=test_df['Player'])\n",
        "\n",
        "dt_df.round(1).head()"
      ],
      "execution_count": 0,
      "outputs": [
        {
          "output_type": "execute_result",
          "data": {
            "text/html": [
              "<div>\n",
              "<style scoped>\n",
              "    .dataframe tbody tr th:only-of-type {\n",
              "        vertical-align: middle;\n",
              "    }\n",
              "\n",
              "    .dataframe tbody tr th {\n",
              "        vertical-align: top;\n",
              "    }\n",
              "\n",
              "    .dataframe thead th {\n",
              "        text-align: right;\n",
              "    }\n",
              "</style>\n",
              "<table border=\"1\" class=\"dataframe\">\n",
              "  <thead>\n",
              "    <tr style=\"text-align: right;\">\n",
              "      <th></th>\n",
              "      <th>Actual</th>\n",
              "      <th>Predicted</th>\n",
              "    </tr>\n",
              "    <tr>\n",
              "      <th>Player</th>\n",
              "      <th></th>\n",
              "      <th></th>\n",
              "    </tr>\n",
              "  </thead>\n",
              "  <tbody>\n",
              "    <tr>\n",
              "      <th>Lamar Patterson</th>\n",
              "      <td>1.8</td>\n",
              "      <td>2.9</td>\n",
              "    </tr>\n",
              "    <tr>\n",
              "      <th>Ryan Kelly</th>\n",
              "      <td>1.6</td>\n",
              "      <td>1.0</td>\n",
              "    </tr>\n",
              "    <tr>\n",
              "      <th>Troy Williams</th>\n",
              "      <td>6.2</td>\n",
              "      <td>6.0</td>\n",
              "    </tr>\n",
              "    <tr>\n",
              "      <th>Mike Conley</th>\n",
              "      <td>20.5</td>\n",
              "      <td>18.0</td>\n",
              "    </tr>\n",
              "    <tr>\n",
              "      <th>DeAndre Jordan</th>\n",
              "      <td>12.7</td>\n",
              "      <td>8.5</td>\n",
              "    </tr>\n",
              "  </tbody>\n",
              "</table>\n",
              "</div>"
            ],
            "text/plain": [
              "                 Actual  Predicted\n",
              "Player                            \n",
              "Lamar Patterson     1.8        2.9\n",
              "Ryan Kelly          1.6        1.0\n",
              "Troy Williams       6.2        6.0\n",
              "Mike Conley        20.5       18.0\n",
              "DeAndre Jordan     12.7        8.5"
            ]
          },
          "metadata": {
            "tags": []
          },
          "execution_count": 51
        }
      ]
    },
    {
      "cell_type": "markdown",
      "metadata": {
        "id": "GUNhY6iCUHiq",
        "colab_type": "text"
      },
      "source": [
        "### Random Forest Regression"
      ]
    },
    {
      "cell_type": "code",
      "metadata": {
        "id": "_VDF5K_dUKLb",
        "colab_type": "code",
        "outputId": "12bc9cce-4de1-4cfe-d76e-e04b3d723ac9",
        "colab": {
          "base_uri": "https://localhost:8080/",
          "height": 51
        }
      },
      "source": [
        "# Fit random forest regression model\n",
        "rf_reg = RandomForestRegressor(n_estimators=20, random_state=0)\n",
        "rf_reg.fit(x_train, y_train.values.ravel())\n",
        "\n",
        "# Predict\n",
        "rf_y_pred = rf_reg.predict(x_test)\n",
        "\n",
        "# MSE\n",
        "rf_mse = MSE(y_test, rf_y_pred)\n",
        "print('MSE:', rf_mse)\n",
        "\n",
        "# r-squared value\n",
        "rf_rsquared = r2_score(y_test, rf_y_pred)\n",
        "print('R^2:', rf_rsquared)"
      ],
      "execution_count": 0,
      "outputs": [
        {
          "output_type": "stream",
          "text": [
            "MSE: 0.776902731387244\n",
            "R^2: 0.9690345901635653\n"
          ],
          "name": "stdout"
        }
      ]
    },
    {
      "cell_type": "code",
      "metadata": {
        "id": "JxHDJAKZXDXW",
        "colab_type": "code",
        "outputId": "a24d28ea-27bf-4dd6-a0ab-a06e32ccc697",
        "colab": {
          "base_uri": "https://localhost:8080/",
          "height": 235
        }
      },
      "source": [
        "# Display results\n",
        "rf_df = pd.DataFrame({'Actual': np.array(y_test['PTS']), 'Predicted': rf_y_pred.flatten()}, \n",
        "                     index=test_df['Player'])\n",
        "\n",
        "rf_df.round(1).head()"
      ],
      "execution_count": 0,
      "outputs": [
        {
          "output_type": "execute_result",
          "data": {
            "text/html": [
              "<div>\n",
              "<style scoped>\n",
              "    .dataframe tbody tr th:only-of-type {\n",
              "        vertical-align: middle;\n",
              "    }\n",
              "\n",
              "    .dataframe tbody tr th {\n",
              "        vertical-align: top;\n",
              "    }\n",
              "\n",
              "    .dataframe thead th {\n",
              "        text-align: right;\n",
              "    }\n",
              "</style>\n",
              "<table border=\"1\" class=\"dataframe\">\n",
              "  <thead>\n",
              "    <tr style=\"text-align: right;\">\n",
              "      <th></th>\n",
              "      <th>Actual</th>\n",
              "      <th>Predicted</th>\n",
              "    </tr>\n",
              "    <tr>\n",
              "      <th>Player</th>\n",
              "      <th></th>\n",
              "      <th></th>\n",
              "    </tr>\n",
              "  </thead>\n",
              "  <tbody>\n",
              "    <tr>\n",
              "      <th>Lamar Patterson</th>\n",
              "      <td>1.8</td>\n",
              "      <td>2.4</td>\n",
              "    </tr>\n",
              "    <tr>\n",
              "      <th>Ryan Kelly</th>\n",
              "      <td>1.6</td>\n",
              "      <td>1.5</td>\n",
              "    </tr>\n",
              "    <tr>\n",
              "      <th>Troy Williams</th>\n",
              "      <td>6.2</td>\n",
              "      <td>6.2</td>\n",
              "    </tr>\n",
              "    <tr>\n",
              "      <th>Mike Conley</th>\n",
              "      <td>20.5</td>\n",
              "      <td>19.2</td>\n",
              "    </tr>\n",
              "    <tr>\n",
              "      <th>DeAndre Jordan</th>\n",
              "      <td>12.7</td>\n",
              "      <td>9.7</td>\n",
              "    </tr>\n",
              "  </tbody>\n",
              "</table>\n",
              "</div>"
            ],
            "text/plain": [
              "                 Actual  Predicted\n",
              "Player                            \n",
              "Lamar Patterson     1.8        2.4\n",
              "Ryan Kelly          1.6        1.5\n",
              "Troy Williams       6.2        6.2\n",
              "Mike Conley        20.5       19.2\n",
              "DeAndre Jordan     12.7        9.7"
            ]
          },
          "metadata": {
            "tags": []
          },
          "execution_count": 53
        }
      ]
    },
    {
      "cell_type": "markdown",
      "metadata": {
        "id": "KgtCUWYpPrd0",
        "colab_type": "text"
      },
      "source": [
        "### Polynomial Regression"
      ]
    },
    {
      "cell_type": "code",
      "metadata": {
        "id": "Yl3U4wRWPKou",
        "colab_type": "code",
        "colab": {}
      },
      "source": [
        ""
      ],
      "execution_count": 0,
      "outputs": []
    },
    {
      "cell_type": "markdown",
      "metadata": {
        "id": "EjQqcYArzBPP",
        "colab_type": "text"
      },
      "source": [
        "### ElasticNet Regression"
      ]
    },
    {
      "cell_type": "code",
      "metadata": {
        "id": "F9LVnFju0ezn",
        "colab_type": "code",
        "colab": {}
      },
      "source": [
        ""
      ],
      "execution_count": 0,
      "outputs": []
    },
    {
      "cell_type": "code",
      "metadata": {
        "id": "yDqOiHZMMm-D",
        "colab_type": "code",
        "colab": {}
      },
      "source": [
        ""
      ],
      "execution_count": 0,
      "outputs": []
    },
    {
      "cell_type": "code",
      "metadata": {
        "id": "M5Q6opfiMnVU",
        "colab_type": "code",
        "colab": {}
      },
      "source": [
        ""
      ],
      "execution_count": 0,
      "outputs": []
    },
    {
      "cell_type": "code",
      "metadata": {
        "id": "yXh9iCn7MnhA",
        "colab_type": "code",
        "outputId": "86749fe2-3bba-400c-f9ee-29442cab2a58",
        "colab": {
          "base_uri": "https://localhost:8080/",
          "height": 269
        }
      },
      "source": [
        "#Lasso Regression\n",
        "lasso=Lasso()\n",
        "lasso.fit(x_train, y_train)\n",
        "\n",
        "#prediction\n",
        "lasso_predict=lasso.predict(x_test)\n",
        "# MSE\n",
        "lasso_mse = MSE(y_test, lasso_predict)\n",
        "print('MSE:', lasso_mse)\n",
        "\n",
        "# r squared value\n",
        "lasso_rsquared = r2_score(y_test, lasso_predict)\n",
        "print('R^2:', lasso_rsquared)\n",
        "\n",
        "# Display results\n",
        "lr_lasso_df=pd.DataFrame({\"Actual\": np.array(y_test[\"PTS\"]), \"Predicted\": lasso_predict.flatten()}, index=test_df['Player'])\n",
        "\n",
        "lr_lasso_df.round(1).head()"
      ],
      "execution_count": 0,
      "outputs": [
        {
          "output_type": "stream",
          "text": [
            "MSE: 0.9816096651365472\n",
            "R^2: 0.9608754811222207\n"
          ],
          "name": "stdout"
        },
        {
          "output_type": "execute_result",
          "data": {
            "text/html": [
              "<div>\n",
              "<style scoped>\n",
              "    .dataframe tbody tr th:only-of-type {\n",
              "        vertical-align: middle;\n",
              "    }\n",
              "\n",
              "    .dataframe tbody tr th {\n",
              "        vertical-align: top;\n",
              "    }\n",
              "\n",
              "    .dataframe thead th {\n",
              "        text-align: right;\n",
              "    }\n",
              "</style>\n",
              "<table border=\"1\" class=\"dataframe\">\n",
              "  <thead>\n",
              "    <tr style=\"text-align: right;\">\n",
              "      <th></th>\n",
              "      <th>Actual</th>\n",
              "      <th>Predicted</th>\n",
              "    </tr>\n",
              "    <tr>\n",
              "      <th>Player</th>\n",
              "      <th></th>\n",
              "      <th></th>\n",
              "    </tr>\n",
              "  </thead>\n",
              "  <tbody>\n",
              "    <tr>\n",
              "      <th>Lamar Patterson</th>\n",
              "      <td>1.8</td>\n",
              "      <td>1.2</td>\n",
              "    </tr>\n",
              "    <tr>\n",
              "      <th>Ryan Kelly</th>\n",
              "      <td>1.6</td>\n",
              "      <td>1.5</td>\n",
              "    </tr>\n",
              "    <tr>\n",
              "      <th>Troy Williams</th>\n",
              "      <td>6.2</td>\n",
              "      <td>6.1</td>\n",
              "    </tr>\n",
              "    <tr>\n",
              "      <th>Mike Conley</th>\n",
              "      <td>20.5</td>\n",
              "      <td>19.3</td>\n",
              "    </tr>\n",
              "    <tr>\n",
              "      <th>DeAndre Jordan</th>\n",
              "      <td>12.7</td>\n",
              "      <td>10.1</td>\n",
              "    </tr>\n",
              "  </tbody>\n",
              "</table>\n",
              "</div>"
            ],
            "text/plain": [
              "                 Actual  Predicted\n",
              "Player                            \n",
              "Lamar Patterson     1.8        1.2\n",
              "Ryan Kelly          1.6        1.5\n",
              "Troy Williams       6.2        6.1\n",
              "Mike Conley        20.5       19.3\n",
              "DeAndre Jordan     12.7       10.1"
            ]
          },
          "metadata": {
            "tags": []
          },
          "execution_count": 57
        }
      ]
    },
    {
      "cell_type": "code",
      "metadata": {
        "id": "pZfky-_6Mnrk",
        "colab_type": "code",
        "colab": {}
      },
      "source": [
        ""
      ],
      "execution_count": 0,
      "outputs": []
    },
    {
      "cell_type": "code",
      "metadata": {
        "id": "9iZ20VR1Mn7B",
        "colab_type": "code",
        "colab": {}
      },
      "source": [
        ""
      ],
      "execution_count": 0,
      "outputs": []
    },
    {
      "cell_type": "code",
      "metadata": {
        "id": "G7yqFxAdMoF-",
        "colab_type": "code",
        "colab": {}
      },
      "source": [
        ""
      ],
      "execution_count": 0,
      "outputs": []
    },
    {
      "cell_type": "markdown",
      "metadata": {
        "id": "Xayce663MpYR",
        "colab_type": "text"
      },
      "source": [
        "## Validation Set & Hyperparameter Tuning"
      ]
    },
    {
      "cell_type": "code",
      "metadata": {
        "id": "VqQfoNijMoRd",
        "colab_type": "code",
        "colab": {}
      },
      "source": [
        ""
      ],
      "execution_count": 0,
      "outputs": []
    },
    {
      "cell_type": "markdown",
      "metadata": {
        "id": "gheJVN4idcuf",
        "colab_type": "text"
      },
      "source": [
        "### K-Fold Cross Validation"
      ]
    },
    {
      "cell_type": "markdown",
      "metadata": {
        "id": "G5YhtPO8i7Pu",
        "colab_type": "text"
      },
      "source": [
        "We will use K-fold cross validation in order to get a better picture of the accuracy of each regression model.\n",
        "\n",
        "The scores can be considered to be approximately normally distributed, so we can get an approximate 95% confidence interval of our r^2 values given by the mean of the simulated scores +/- 2 time the standard deviation of the scores.\n",
        "\n",
        "Some resources: \n",
        "* https://scikit-learn.org/stable/modules/model_evaluation.html\n",
        "* https://scikit-learn.org/stable/modules/cross_validation.html\n"
      ]
    },
    {
      "cell_type": "code",
      "metadata": {
        "id": "92eu626JPpIM",
        "colab_type": "code",
        "colab": {}
      },
      "source": [
        "# 95% confidence interval = mean +/- 2*SD\n",
        "\n",
        "lin_scores = cross_val_score(lin_reg, x_test, y_test.values.ravel(), cv=5)\n",
        "lin_ci = \"{0:.2f} (+/- {1:.2f})\".format(lin_scores.mean(), lin_scores.std() * 2)\n",
        "\n",
        "ridge_scores = cross_val_score(ridge, x_test, y_test.values.ravel(), cv=5)\n",
        "ridge_ci = \"{0:.2f} (+/- {1:.2f})\".format(ridge_scores.mean(), ridge_scores.std() * 2)\n",
        "\n",
        "dt_scores = cross_val_score(dt_reg, x_test, y_test.values.ravel(), cv=5)\n",
        "dt_ci = \"{0:.2f} (+/- {1:.2f})\".format(dt_scores.mean(), dt_scores.std() * 2)\n",
        "\n",
        "rf_scores = cross_val_score(rf_reg, x_test, y_test.values.ravel(), cv=5)\n",
        "rf_ci = \"{0:.2f} (+/- {1:.2f})\".format(rf_scores.mean(), rf_scores.std() * 2)"
      ],
      "execution_count": 0,
      "outputs": []
    },
    {
      "cell_type": "code",
      "metadata": {
        "id": "0ylZXuxvPpum",
        "colab_type": "code",
        "outputId": "5131a294-6250-43ab-9234-c51cdd6861cc",
        "colab": {
          "base_uri": "https://localhost:8080/",
          "height": 173
        }
      },
      "source": [
        "# Display results in a table:\n",
        "scores_df = pd.DataFrame(data=[('Linear', lin_ci, lr_rsquared), \n",
        "                               ('Ridge', ridge_ci, ridge_rsquared),\n",
        "                               ('Decision Tree', dt_ci, dt_rsquared),\n",
        "                               ('Random Forest', rf_ci, rf_rsquared)],\n",
        "                         columns=('Regression Model', '95% Accuracy Interval', 'Test Accuracy (r^2)'))\n",
        "scores_df.round(2)"
      ],
      "execution_count": 0,
      "outputs": [
        {
          "output_type": "execute_result",
          "data": {
            "text/html": [
              "<div>\n",
              "<style scoped>\n",
              "    .dataframe tbody tr th:only-of-type {\n",
              "        vertical-align: middle;\n",
              "    }\n",
              "\n",
              "    .dataframe tbody tr th {\n",
              "        vertical-align: top;\n",
              "    }\n",
              "\n",
              "    .dataframe thead th {\n",
              "        text-align: right;\n",
              "    }\n",
              "</style>\n",
              "<table border=\"1\" class=\"dataframe\">\n",
              "  <thead>\n",
              "    <tr style=\"text-align: right;\">\n",
              "      <th></th>\n",
              "      <th>Regression Model</th>\n",
              "      <th>95% Accuracy Interval</th>\n",
              "      <th>Test Accuracy (r^2)</th>\n",
              "    </tr>\n",
              "  </thead>\n",
              "  <tbody>\n",
              "    <tr>\n",
              "      <th>0</th>\n",
              "      <td>Linear</td>\n",
              "      <td>0.96 (+/- 0.02)</td>\n",
              "      <td>0.96</td>\n",
              "    </tr>\n",
              "    <tr>\n",
              "      <th>1</th>\n",
              "      <td>Ridge</td>\n",
              "      <td>0.96 (+/- 0.02)</td>\n",
              "      <td>0.96</td>\n",
              "    </tr>\n",
              "    <tr>\n",
              "      <th>2</th>\n",
              "      <td>Decision Tree</td>\n",
              "      <td>0.92 (+/- 0.07)</td>\n",
              "      <td>0.93</td>\n",
              "    </tr>\n",
              "    <tr>\n",
              "      <th>3</th>\n",
              "      <td>Random Forest</td>\n",
              "      <td>0.94 (+/- 0.05)</td>\n",
              "      <td>0.97</td>\n",
              "    </tr>\n",
              "  </tbody>\n",
              "</table>\n",
              "</div>"
            ],
            "text/plain": [
              "  Regression Model 95% Accuracy Interval  Test Accuracy (r^2)\n",
              "0           Linear       0.96 (+/- 0.02)                 0.96\n",
              "1            Ridge       0.96 (+/- 0.02)                 0.96\n",
              "2    Decision Tree       0.92 (+/- 0.07)                 0.93\n",
              "3    Random Forest       0.94 (+/- 0.05)                 0.97"
            ]
          },
          "metadata": {
            "tags": []
          },
          "execution_count": 55
        }
      ]
    },
    {
      "cell_type": "markdown",
      "metadata": {
        "id": "wR9_oKEdm1O_",
        "colab_type": "text"
      },
      "source": [
        "If we were just to look at the r^2 values from the test dataframe, it would appear that the random forest regressor is the most accurate. However, the multiple linear regression model (as well as the basically equivalent ridge model) has a tighter confidence interval with a higher center. This suggests that the linear regression model is perhaps the best model so far."
      ]
    },
    {
      "cell_type": "markdown",
      "metadata": {
        "id": "jvnuFR_Wp1J_",
        "colab_type": "text"
      },
      "source": [
        "### Questions for the future: \n",
        "* Do we need to have separate validation and testing sets? Is our dataset big enough to allow for a 50-25-25 split?\n",
        "* Hyperparameter tuning? Can this be done without a separate validation set?\n",
        "* Feature engineering?\n",
        "\n",
        "### Good resources:\n",
        "* [Employing GridSearchCV](https://campus.datacamp.com/courses/supervised-learning-with-scikit-learn/fine-tuning-your-model?ex=10)\n",
        "* [Test vs. validation sets](https://machinelearningmastery.com/difference-test-validation-datasets/)\n",
        "* [How random forest works](https://stackabuse.com/random-forest-algorithm-with-python-and-scikit-learn/)\n",
        "* [General hyperparameter tuning](https://towardsdatascience.com/hyperparameter-tuning-explained-d0ebb2ba1d35)\n",
        "* [Gradient descent for linear regression](https://towardsdatascience.com/linear-regression-using-gradient-descent-97a6c8700931)\n",
        "* [General hyperparameter tuning with Bayesian Optimization](https://machinelearningmastery.com/what-is-bayesian-optimization/)"
      ]
    },
    {
      "cell_type": "code",
      "metadata": {
        "id": "S679JPIoPKy9",
        "colab_type": "code",
        "colab": {}
      },
      "source": [
        ""
      ],
      "execution_count": 0,
      "outputs": []
    },
    {
      "cell_type": "code",
      "metadata": {
        "id": "FykUJ6zEoYBz",
        "colab_type": "code",
        "colab": {}
      },
      "source": [
        ""
      ],
      "execution_count": 0,
      "outputs": []
    },
    {
      "cell_type": "code",
      "metadata": {
        "id": "HHic6wInoYs6",
        "colab_type": "code",
        "colab": {}
      },
      "source": [
        ""
      ],
      "execution_count": 0,
      "outputs": []
    },
    {
      "cell_type": "code",
      "metadata": {
        "id": "WIeGVTYHoZEP",
        "colab_type": "code",
        "colab": {}
      },
      "source": [
        ""
      ],
      "execution_count": 0,
      "outputs": []
    },
    {
      "cell_type": "code",
      "metadata": {
        "id": "bqa2Cx_woZTC",
        "colab_type": "code",
        "colab": {}
      },
      "source": [
        ""
      ],
      "execution_count": 0,
      "outputs": []
    },
    {
      "cell_type": "code",
      "metadata": {
        "id": "VGnfzOsvRMPF",
        "colab_type": "code",
        "colab": {}
      },
      "source": [
        ""
      ],
      "execution_count": 0,
      "outputs": []
    }
  ]
}